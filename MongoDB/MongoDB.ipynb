{
 "cells": [
  {
   "cell_type": "code",
   "execution_count": 20,
   "metadata": {
    "slideshow": {
     "slide_type": "skip"
    }
   },
   "outputs": [],
   "source": [
    "from IPython.display import IFrame"
   ]
  },
  {
   "cell_type": "markdown",
   "metadata": {
    "slideshow": {
     "slide_type": "slide"
    }
   },
   "source": [
    "# Why MongoDB\n",
    "* It is popular "
   ]
  },
  {
   "cell_type": "code",
   "execution_count": 3,
   "metadata": {
    "slideshow": {
     "slide_type": "slide"
    }
   },
   "outputs": [
    {
     "data": {
      "text/html": [
       "\n",
       "        <iframe\n",
       "            width=\"1200\"\n",
       "            height=\"600\"\n",
       "            src=\"https://insights.stackoverflow.com/trends?tags=mongodb%2Ccouchdb%2Ccassandra%2Cravendb\"\n",
       "            frameborder=\"0\"\n",
       "            allowfullscreen\n",
       "        ></iframe>\n",
       "        "
      ],
      "text/plain": [
       "<IPython.lib.display.IFrame at 0x7fb580707518>"
      ]
     },
     "execution_count": 3,
     "metadata": {},
     "output_type": "execute_result"
    }
   ],
   "source": [
    "IFrame(src='https://insights.stackoverflow.com/trends?tags=mongodb%2Ccouchdb%2Ccassandra%2Cravendb', width=1200, height=600)"
   ]
  },
  {
   "cell_type": "code",
   "execution_count": 21,
   "metadata": {
    "slideshow": {
     "slide_type": "slide"
    }
   },
   "outputs": [
    {
     "data": {
      "text/html": [
       "\n",
       "        <iframe\n",
       "            width=\"1200\"\n",
       "            height=\"600\"\n",
       "            src=\"https://insights.stackoverflow.com/survey/2019#most-loved-dreaded-and-wanted\"\n",
       "            frameborder=\"0\"\n",
       "            allowfullscreen\n",
       "        ></iframe>\n",
       "        "
      ],
      "text/plain": [
       "<IPython.lib.display.IFrame at 0x7f9648ce8b70>"
      ]
     },
     "execution_count": 21,
     "metadata": {},
     "output_type": "execute_result"
    }
   ],
   "source": [
    "IFrame(src='https://insights.stackoverflow.com/survey/2019#most-loved-dreaded-and-wanted', width=1200, height=600)"
   ]
  },
  {
   "cell_type": "markdown",
   "metadata": {
    "slideshow": {
     "slide_type": "slide"
    }
   },
   "source": [
    "# SQL vs. Non-SQL"
   ]
  },
  {
   "cell_type": "markdown",
   "metadata": {
    "slideshow": {
     "slide_type": "fragment"
    }
   },
   "source": [
    "* For decades, SQL databases used to be one of the only choices for developers looking to build large, scalable systems.\n",
    "* Increasing need for the ability to store complex data structures led to the birth of NoSQL databases, which allow a developer to store heterogeneous and structure-less data."
   ]
  },
  {
   "cell_type": "markdown",
   "metadata": {
    "slideshow": {
     "slide_type": "fragment"
    }
   },
   "source": [
    "## SQL\n",
    "\n",
    "* The model is of a relational nature\n",
    "* Data is stored in tables\n",
    "* Suitable for solutions where every record is of the same kind and possesses the same properties\n",
    "* Adding a new property means you have to alter the whole schema\n",
    "* The schema is very strict\n",
    "* Scales well vertically"
   ]
  },
  {
   "cell_type": "markdown",
   "metadata": {
    "slideshow": {
     "slide_type": "fragment"
    }
   },
   "source": [
    "## NoSQL\n",
    "\n",
    "* The model is non-relational\n",
    "* May be stored as JSON, key-value, etc. (depending on type of NoSQL database)\n",
    "* Not every record has to be of the same nature, making it very flexible\n",
    "* Add new properties to data without disturbing anything\n",
    "* No schema requirements to adhere to\n",
    "* Consistency can vary\n",
    "* Scales well horizontally"
   ]
  },
  {
   "cell_type": "markdown",
   "metadata": {
    "slideshow": {
     "slide_type": "slide"
    }
   },
   "source": [
    "# MongoDB"
   ]
  },
  {
   "cell_type": "markdown",
   "metadata": {
    "slideshow": {
     "slide_type": "fragment"
    }
   },
   "source": [
    "* MongoDB is a document-oriented, open-source database program that is platform-independent. \n",
    "* MongoDB, like some other NoSQL databases (but not all!), stores its data in documents using a JSON structure. This is what allows the data to be so flexible and not require a schema."
   ]
  },
  {
   "cell_type": "markdown",
   "metadata": {
    "slideshow": {
     "slide_type": "fragment"
    }
   },
   "source": [
    "Some of the more important features are:\n",
    "\n",
    "* You have support for many of the standard query types, like matching (==), comparison (<, >), or even regex"
   ]
  },
  {
   "cell_type": "markdown",
   "metadata": {
    "slideshow": {
     "slide_type": "fragment"
    }
   },
   "source": [
    "* You can store virtually any kind of data - be it structured, partially structured, or even polymorphic"
   ]
  },
  {
   "cell_type": "markdown",
   "metadata": {
    "slideshow": {
     "slide_type": "fragment"
    }
   },
   "source": [
    "* To scale up and handle more queries, just add more machines"
   ]
  },
  {
   "cell_type": "markdown",
   "metadata": {
    "slideshow": {
     "slide_type": "fragment"
    }
   },
   "source": [
    "* It is highly flexible and agile, allowing you to quickly develop your applications"
   ]
  },
  {
   "cell_type": "markdown",
   "metadata": {
    "slideshow": {
     "slide_type": "fragment"
    }
   },
   "source": [
    "* Being a document-based database means you can store all the information regarding your model in a single document"
   ]
  },
  {
   "cell_type": "markdown",
   "metadata": {
    "slideshow": {
     "slide_type": "fragment"
    }
   },
   "source": [
    "* You can change the schema of your database on the fly"
   ]
  },
  {
   "cell_type": "markdown",
   "metadata": {
    "slideshow": {
     "slide_type": "fragment"
    }
   },
   "source": [
    "* Many relational database functionalities are also available in MongoDB (e.g. indexing)"
   ]
  },
  {
   "cell_type": "markdown",
   "metadata": {
    "slideshow": {
     "slide_type": "subslide"
    }
   },
   "source": [
    "# How do database entries look?\n",
    "![](images/JSON_entry.png)"
   ]
  },
  {
   "cell_type": "markdown",
   "metadata": {
    "slideshow": {
     "slide_type": "fragment"
    }
   },
   "source": [
    "* Stored as arrays with sub-objects\n",
    "* Information is stored as a pre-computed join ... Makes it fast\n",
    "* Can still search for low-level features and search "
   ]
  },
  {
   "cell_type": "markdown",
   "metadata": {
    "slideshow": {
     "slide_type": "subslide"
    }
   },
   "source": [
    "[Who Uses Mongobd]('https://www.mongodb.com/who-uses-mongodb')"
   ]
  },
  {
   "cell_type": "markdown",
   "metadata": {
    "slideshow": {
     "slide_type": "subslide"
    }
   },
   "source": [
    "# What Might Entries look like\n",
    "![](images/Books.png)"
   ]
  },
  {
   "cell_type": "markdown",
   "metadata": {
    "slideshow": {
     "slide_type": "fragment"
    }
   },
   "source": [
    "* For instance, we might want the ratings of books to be stored with the Books\n",
    "* Need to link relationships between documents\n",
    "* Pre-computed join ... You do not need to do the query each time\n",
    "* Could have pre-computed values"
   ]
  },
  {
   "cell_type": "markdown",
   "metadata": {
    "slideshow": {
     "slide_type": "subslide"
    }
   },
   "source": [
    "# How does this look in a document database like Mongodb?\n",
    "![](images/Documents.png)"
   ]
  },
  {
   "cell_type": "markdown",
   "metadata": {
    "slideshow": {
     "slide_type": "fragment"
    }
   },
   "source": [
    "* Sometimes we have relationships still (**PublisherID**)"
   ]
  },
  {
   "cell_type": "markdown",
   "metadata": {
    "slideshow": {
     "slide_type": "fragment"
    }
   },
   "source": [
    "* Sometimes we want to embed information **Ratings**"
   ]
  },
  {
   "cell_type": "markdown",
   "metadata": {
    "slideshow": {
     "slide_type": "slide"
    }
   },
   "source": [
    "# Guidelines"
   ]
  },
  {
   "cell_type": "markdown",
   "metadata": {
    "slideshow": {
     "slide_type": "fragment"
    }
   },
   "source": [
    "* To embed or not to embed?\n",
    "    * Is the embedded object wanted at least **80% of the time**? \n",
    "    * How often do you want the embedded data **without the containing document**? -- independent collection \n",
    "    * is the embedded **document a bounded set**? -- Will it grow forever? Want a small document file.\n",
    "    * Is that bound small? --- documents are limited to 16 Mb ... this is for your protection\n",
    "        * Best to be in the Kb range\n",
    "    * How varied are your queries?"
   ]
  },
  {
   "cell_type": "markdown",
   "metadata": {
    "slideshow": {
     "slide_type": "subslide"
    }
   },
   "source": [
    "## Integration DB\n",
    "When you have many systems and applications (generally not good for NonSQL)\n",
    "* This complicates the systems\n",
    "![](images/IntegrationDB.png)"
   ]
  },
  {
   "cell_type": "markdown",
   "metadata": {
    "slideshow": {
     "slide_type": "subslide"
    }
   },
   "source": [
    "## Application Databases\n",
    "When each application has its own database\n",
    "* Much better for MongoDB\n",
    "![](images/ApplicationDB.png)"
   ]
  },
  {
   "cell_type": "markdown",
   "metadata": {
    "slideshow": {
     "slide_type": "slide"
    }
   },
   "source": [
    "# Spinning up a MongoDB Server"
   ]
  },
  {
   "cell_type": "code",
   "execution_count": 25,
   "metadata": {
    "slideshow": {
     "slide_type": "fragment"
    }
   },
   "outputs": [
    {
     "data": {
      "text/html": [
       "\n",
       "        <iframe\n",
       "            width=\"1200\"\n",
       "            height=\"600\"\n",
       "            src=\"https://api.mongodb.com/python/current/installation.html\"\n",
       "            frameborder=\"0\"\n",
       "            allowfullscreen\n",
       "        ></iframe>\n",
       "        "
      ],
      "text/plain": [
       "<IPython.lib.display.IFrame at 0x7f9648a5a828>"
      ]
     },
     "execution_count": 25,
     "metadata": {},
     "output_type": "execute_result"
    }
   ],
   "source": [
    "IFrame(src='https://api.mongodb.com/python/current/installation.html', width=1200, height=600)"
   ]
  },
  {
   "cell_type": "markdown",
   "metadata": {
    "slideshow": {
     "slide_type": "fragment"
    }
   },
   "source": [
    "`mongod --dbpath=\"/Users/joshuaagar/Documents/data/db\"`"
   ]
  },
  {
   "cell_type": "markdown",
   "metadata": {
    "slideshow": {
     "slide_type": "slide"
    }
   },
   "source": [
    "# SnakeBnB"
   ]
  },
  {
   "cell_type": "code",
   "execution_count": 26,
   "metadata": {
    "slideshow": {
     "slide_type": "fragment"
    }
   },
   "outputs": [
    {
     "name": "stdout",
     "output_type": "stream",
     "text": [
      "Requirement already satisfied: pymongo in /Users/joshuaagar/anaconda3/lib/python3.7/site-packages (from -r ./mongodb_files/src/snake_bnb/requirements.txt (line 1)) (3.9.0)\n",
      "Requirement already satisfied: mongoengine in /Users/joshuaagar/anaconda3/lib/python3.7/site-packages (from -r ./mongodb_files/src/snake_bnb/requirements.txt (line 2)) (0.18.2)\n",
      "Requirement already satisfied: tqdm in /Users/joshuaagar/anaconda3/lib/python3.7/site-packages (from -r ./mongodb_files/src/snake_bnb/requirements.txt (line 3)) (4.35.0)\n",
      "Requirement already satisfied: colorama in /Users/joshuaagar/anaconda3/lib/python3.7/site-packages (from -r ./mongodb_files/src/snake_bnb/requirements.txt (line 4)) (0.4.1)\n",
      "Requirement already satisfied: python-dateutil in /Users/joshuaagar/anaconda3/lib/python3.7/site-packages (from -r ./mongodb_files/src/snake_bnb/requirements.txt (line 5)) (2.8.0)\n",
      "Requirement already satisfied: six in /Users/joshuaagar/anaconda3/lib/python3.7/site-packages (from mongoengine->-r ./mongodb_files/src/snake_bnb/requirements.txt (line 2)) (1.12.0)\n"
     ]
    }
   ],
   "source": [
    "!pip install -r \"./mongodb_files/src/snake_bnb/requirements.txt\""
   ]
  },
  {
   "cell_type": "code",
   "execution_count": 27,
   "metadata": {
    "slideshow": {
     "slide_type": "fragment"
    }
   },
   "outputs": [
    {
     "name": "stdout",
     "output_type": "stream",
     "text": [
      "\u001b[37m****************  SNAKE BnB  ****************\n",
      "\u001b[32m\n",
      "             ~8I?? OM               \n",
      "            M..I?Z 7O?M             \n",
      "            ?   ?8   ?I8            \n",
      "           MOM???I?ZO??IZ           \n",
      "          M:??O??????MII            \n",
      "          OIIII$NI7??I$             \n",
      "               IIID?IIZ             \n",
      "  +$       ,IM ,~7??I7$             \n",
      "I?        MM   ?:::?7$              \n",
      "??              7,::?778+=~+??8       \n",
      "??Z             ?,:,:I7$I??????+~~+    \n",
      "??D          N==7,::,I77??????????=~$  \n",
      "~???        I~~I?,::,77$Z?????????????  \n",
      "???+~M   $+~+???? :::II7$II777II??????N \n",
      "OI??????????I$$M=,:+7??I$7I??????????? \n",
      " N$$$ZDI      =++:$???????????II78  \n",
      "               =~~:~~7II777$$Z      \n",
      "                     ~ZMM~ \n",
      "\u001b[37m*********************************************\n",
      "\n",
      "Welcome to Snake BnB!\n",
      "Why are you here?\n",
      "\n",
      "[g] Book a cage for your snake\n",
      "[h] Offer extra cage space\n",
      "\n",
      "Are you a [g]uest or [h]ost? h\n",
      " ****************** Welcome host **************** \n",
      "\n",
      "What action would you like to take:\n",
      "[C]reate an [a]ccount\n",
      "[L]ogin to your account\n",
      "List [y]our cages\n",
      "[R]egister a cage\n",
      "[U]pdate cage availability\n",
      "[V]iew your bookings\n",
      "Change [M]ode (guest or host)\n",
      "e[X]it app\n",
      "[?] Help (this info)\n",
      "\n",
      "> C\n",
      " ****************** REGISTER **************** \n",
      "What is your name? Josh\n",
      "What is your email? joshagar@gmail.com\n",
      "\u001b[91mERROR: Account with email joshagar@gmail.com already exists.\u001b[37m\n",
      "\n"
     ]
    }
   ],
   "source": [
    "%run -i \"./mongodb_files/src/snake_bnb/src/program.py\""
   ]
  },
  {
   "cell_type": "markdown",
   "metadata": {
    "slideshow": {
     "slide_type": "subslide"
    }
   },
   "source": [
    "# ODM compared to PyMongo"
   ]
  },
  {
   "cell_type": "markdown",
   "metadata": {
    "slideshow": {
     "slide_type": "fragment"
    }
   },
   "source": [
    "Pymongo: low level way to talk to MongoDB"
   ]
  },
  {
   "cell_type": "markdown",
   "metadata": {
    "slideshow": {
     "slide_type": "fragment"
    }
   },
   "source": [
    "ODM: Simplifies the deploying the operation"
   ]
  },
  {
   "cell_type": "code",
   "execution_count": 63,
   "metadata": {
    "slideshow": {
     "slide_type": "fragment"
    }
   },
   "outputs": [
    {
     "name": "stdout",
     "output_type": "stream",
     "text": [
      "mkdir: ./mongo_test/: File exists\n",
      "mkdir: ./mongo_test/src/: File exists\n",
      "mkdir: ./mongo_test/src/snake_bnb/: File exists\n",
      "mkdir: ./mongo_test/src/snake_bnb/src/: File exists\n",
      "mkdir: ./mongo_test/src/snake_bnb/src/data/: File exists\n"
     ]
    }
   ],
   "source": [
    "# %load ./mongodb_files/src/snake_bnb/src/data/mongo_setup.py\n",
    "\n",
    "!mkdir './mongo_test/'\n",
    "!mkdir './mongo_test/src/'\n",
    "!mkdir './mongo_test/src/snake_bnb/'\n",
    "!mkdir './mongo_test/src/snake_bnb/src/'\n",
    "!mkdir './mongo_test/src/snake_bnb/src/data/'\n",
    "!mkdir './mongo_test/src/snake_bnb/src/services/'"
   ]
  },
  {
   "cell_type": "code",
   "execution_count": 38,
   "metadata": {
    "slideshow": {
     "slide_type": "subslide"
    }
   },
   "outputs": [
    {
     "name": "stdout",
     "output_type": "stream",
     "text": [
      "Writing ./mongo_test/src/snake_bnb/src/data/mongo_setup.py\n"
     ]
    }
   ],
   "source": [
    "%%writefile './mongo_test/src/snake_bnb/src/data/mongo_setup.py'\n",
    "\n",
    "# imports the engine\n",
    "import mongoengine\n",
    "\n",
    "# makes the connection to the server\n",
    "def global_init():\n",
    "    mongoengine.register_connection(alias='core', name='snake_bnb')"
   ]
  },
  {
   "cell_type": "code",
   "execution_count": 44,
   "metadata": {
    "slideshow": {
     "slide_type": "subslide"
    }
   },
   "outputs": [
    {
     "name": "stdout",
     "output_type": "stream",
     "text": [
      "Overwriting ./mongo_test/src/snake_bnb/src/program.py\n"
     ]
    }
   ],
   "source": [
    "%%writefile './mongo_test/src/snake_bnb/src/program.py'\n",
    "# %load ./mongodb_files/src/snake_bnb/src/program.py\n",
    "# This is the program that is run\n",
    "\n",
    "from colorama import Fore\n",
    "import program_guests\n",
    "import program_hosts\n",
    "import data.mongo_setup as mongo_setup #load the mongo setup file\n",
    "\n",
    "\n",
    "def main():\n",
    "    # calls the database\n",
    "    mongo_setup.global_init() # sets global values\n",
    "\n",
    "    print_header()\n",
    "\n",
    "    try:\n",
    "        while True:\n",
    "            if find_user_intent() == 'book':\n",
    "                program_guests.run()\n",
    "            else:\n",
    "                program_hosts.run()\n",
    "    except KeyboardInterrupt:\n",
    "        return\n",
    "\n",
    "\n",
    "def print_header():\n",
    "    snake = \\\n",
    "        \"\"\"\n",
    "             ~8I?? OM               \n",
    "            M..I?Z 7O?M             \n",
    "            ?   ?8   ?I8            \n",
    "           MOM???I?ZO??IZ           \n",
    "          M:??O??????MII            \n",
    "          OIIII$NI7??I$             \n",
    "               IIID?IIZ             \n",
    "  +$       ,IM ,~7??I7$             \n",
    "I?        MM   ?:::?7$              \n",
    "??              7,::?778+=~+??8       \n",
    "??Z             ?,:,:I7$I??????+~~+    \n",
    "??D          N==7,::,I77??????????=~$  \n",
    "~???        I~~I?,::,77$Z?????????????  \n",
    "???+~M   $+~+???? :::II7$II777II??????N \n",
    "OI??????????I$$M=,:+7??I$7I??????????? \n",
    " N$$$ZDI      =++:$???????????II78  \n",
    "               =~~:~~7II777$$Z      \n",
    "                     ~ZMM~ \"\"\"\n",
    "\n",
    "    print(Fore.WHITE + '****************  SNAKE BnB  ****************')\n",
    "    print(Fore.GREEN + snake)\n",
    "    print(Fore.WHITE + '*********************************************')\n",
    "    print()\n",
    "    print(\"Welcome to Snake BnB!\")\n",
    "    print(\"Why are you here?\")\n",
    "    print()\n",
    "\n",
    "\n",
    "# asks the user what they want to do\n",
    "def find_user_intent():\n",
    "    print(\"[g] Book a cage for your snake\")\n",
    "    print(\"[h] Offer extra cage space\")\n",
    "    print()\n",
    "    choice = input(\"Are you a [g]uest or [h]ost? \")\n",
    "    if choice == 'h':\n",
    "        return 'offer'\n",
    "\n",
    "    return 'book'\n",
    "\n",
    "\n",
    "if __name__ == '__main__':\n",
    "    main()\n"
   ]
  },
  {
   "cell_type": "code",
   "execution_count": 53,
   "metadata": {
    "slideshow": {
     "slide_type": "subslide"
    }
   },
   "outputs": [
    {
     "name": "stdout",
     "output_type": "stream",
     "text": [
      "Writing ./mongo_test/src/snake_bnb/src/data/snakes.py\n"
     ]
    }
   ],
   "source": [
    "%%writefile './mongo_test/src/snake_bnb/src/data/snakes.py'\n",
    "# %load ./mongodb_files/src/snake_bnb/src/data/snakes.py\n",
    "\n",
    "import datetime\n",
    "import mongoengine\n",
    "\n",
    "# This is a class that defines the snake document\n",
    "class Snake(mongoengine.Document):\n",
    "    registered_date = None\n",
    "    # mongoengine.DateTimeField(default=datetime.datetime.now)\n",
    "    species = None\n",
    "    # mongoengine.StringField(required=True)\n",
    "\n",
    "    length = None\n",
    "    # mongoengine.FloatField(required=True)\n",
    "    name = None\n",
    "    # mongoengine.StringField(required=True)\n",
    "    is_venomous = None\n",
    "    # mongoengine.BooleanField(required=True)\n",
    "\n",
    "    meta = {\n",
    "        'db_alias': 'core', # goes into the core\n",
    "        'collection': 'snakes' # where the collection is stored\n",
    "    }\n"
   ]
  },
  {
   "cell_type": "code",
   "execution_count": 54,
   "metadata": {
    "slideshow": {
     "slide_type": "subslide"
    }
   },
   "outputs": [
    {
     "name": "stdout",
     "output_type": "stream",
     "text": [
      "Overwriting ./mongo_test/src/snake_bnb/src/data/snakes.py\n"
     ]
    }
   ],
   "source": [
    "%%writefile './mongo_test/src/snake_bnb/src/data/snakes.py'\n",
    "# %load ./mongodb_files/src/snake_bnb/src/data/snakes.py\n",
    "\n",
    "import datetime\n",
    "import mongoengine\n",
    "\n",
    "# This is a class that defines the snake document\n",
    "class Snake(mongoengine.Document):\n",
    "    registered_date = mongoengine.DateTimeField(default=datetime.datetime.now)\n",
    "    # default=datetime.datetime.now is a function that is evaluated\n",
    "    species = mongoengine.StringField(required=True)\n",
    "\n",
    "    length = mongoengine.FloatField(required=True)\n",
    "    name = mongoengine.StringField(required=True)\n",
    "    is_venomous = mongoengine.BooleanField(required=True)\n",
    "\n",
    "    meta = {\n",
    "        'db_alias': 'core', # goes into the core\n",
    "        'collection': 'snakes' # where the collection is stored\n",
    "    }\n"
   ]
  },
  {
   "cell_type": "markdown",
   "metadata": {
    "slideshow": {
     "slide_type": "fragment"
    }
   },
   "source": [
    "* ```\n",
    "    default=datetime.datetime.now``` is a function that is evaluated"
   ]
  },
  {
   "cell_type": "markdown",
   "metadata": {
    "slideshow": {
     "slide_type": "fragment"
    }
   },
   "source": [
    "* `required=True` sets if the document is required"
   ]
  },
  {
   "cell_type": "code",
   "execution_count": 55,
   "metadata": {
    "slideshow": {
     "slide_type": "subslide"
    }
   },
   "outputs": [
    {
     "name": "stdout",
     "output_type": "stream",
     "text": [
      "Writing ./mongo_test/src/snake_bnb/src/data/cages.py\n"
     ]
    }
   ],
   "source": [
    "%%writefile './mongo_test/src/snake_bnb/src/data/cages.py'\n",
    "# %load ./mongodb_files/src/snake_bnb/src/data/cages.py\n",
    "\n",
    "import datetime\n",
    "import mongoengine\n",
    "\n",
    "from data.bookings import Booking\n",
    "\n",
    "\n",
    "class Cage(mongoengine.Document):\n",
    "    registered_date = mongoengine.DateTimeField(default=datetime.datetime.now)\n",
    "\n",
    "    name = mongoengine.StringField(required=True)\n",
    "    price = mongoengine.FloatField(required=True)\n",
    "    square_meters = mongoengine.FloatField(required=True)\n",
    "    is_carpeted = mongoengine.BooleanField(required=True)\n",
    "    has_toys = mongoengine.BooleanField(required=True)\n",
    "    allow_dangerous_snakes = mongoengine.BooleanField(default=False)\n",
    "\n",
    "    # note that the bookings is nested inside cages\n",
    "    bookings = mongoengine.EmbeddedDocumentListField(Booking)\n",
    "\n",
    "    meta = {\n",
    "        'db_alias': 'core',\n",
    "        'collection': 'cages'\n",
    "    }"
   ]
  },
  {
   "cell_type": "markdown",
   "metadata": {
    "slideshow": {
     "slide_type": "fragment"
    }
   },
   "source": [
    "* `mongoengine.EmbeddedDocumentListField(Booking)` this is a list of embedded document\n",
    "* `from data.bookings import Booking` imports this information\n",
    "* `mongoengine.Document` sets the base class of type document"
   ]
  },
  {
   "cell_type": "code",
   "execution_count": 57,
   "metadata": {
    "slideshow": {
     "slide_type": "subslide"
    }
   },
   "outputs": [
    {
     "name": "stdout",
     "output_type": "stream",
     "text": [
      "Writing ./mongo_test/src/snake_bnb/src/data/bookings.py\n"
     ]
    }
   ],
   "source": [
    "%%writefile './mongo_test/src/snake_bnb/src/data/bookings.py'\n",
    "\n",
    "# %load ./mongodb_files/src/snake_bnb/src/data/bookings.py\n",
    "import mongoengine\n",
    "\n",
    "\n",
    "class Booking(mongoengine.EmbeddedDocument):\n",
    "    guest_owner_id = mongoengine.ObjectIdField()\n",
    "    guest_snake_id = mongoengine.ObjectIdField()\n",
    "\n",
    "    booked_date = mongoengine.DateTimeField()\n",
    "    check_in_date = mongoengine.DateTimeField(required=True)\n",
    "    check_out_date = mongoengine.DateTimeField(required=True)\n",
    "\n",
    "    review = mongoengine.StringField()\n",
    "    rating = mongoengine.IntField(default=0)\n",
    "\n",
    "#    @property\n",
    "#    def duration_in_days(self):\n",
    "#        dt = self.check_out_date - self.check_in_date\n",
    "#        return dt.days\n",
    "#"
   ]
  },
  {
   "cell_type": "markdown",
   "metadata": {
    "slideshow": {
     "slide_type": "fragment"
    }
   },
   "source": [
    "* `mongoengine.ObjectIdField()` - this is an id for the different objects"
   ]
  },
  {
   "cell_type": "code",
   "execution_count": 59,
   "metadata": {
    "slideshow": {
     "slide_type": "subslide"
    }
   },
   "outputs": [
    {
     "name": "stdout",
     "output_type": "stream",
     "text": [
      "Writing ./mongo_test/src/snake_bnb/src/data/owners.py\n"
     ]
    }
   ],
   "source": [
    "%%writefile ./mongo_test/src/snake_bnb/src/data/owners.py\n",
    "# %load ./mongodb_files/src/snake_bnb/src/data/owners.py\n",
    "import datetime\n",
    "import mongoengine\n",
    "\n",
    "\n",
    "class Owner(mongoengine.Document):\n",
    "    registered_date = mongoengine.DateTimeField(default=datetime.datetime.now)\n",
    "    name = mongoengine.StringField(required=True)\n",
    "    email = mongoengine.StringField(required=True)\n",
    "\n",
    "    snake_ids = mongoengine.ListField()\n",
    "    cage_ids = mongoengine.ListField()\n",
    "\n",
    "    meta = {\n",
    "        'db_alias': 'core',\n",
    "        'collection': 'owners'\n",
    "    }\n"
   ]
  },
  {
   "cell_type": "markdown",
   "metadata": {
    "slideshow": {
     "slide_type": "fragment"
    }
   },
   "source": [
    "* `mongoengine.ListField()` this is just a list of ids"
   ]
  },
  {
   "cell_type": "markdown",
   "metadata": {
    "slideshow": {
     "slide_type": "subslide"
    }
   },
   "source": [
    "# Basic Classes"
   ]
  },
  {
   "cell_type": "markdown",
   "metadata": {
    "slideshow": {
     "slide_type": "fragment"
    }
   },
   "source": [
    "```python \n",
    "class Snake(mongoengine.Document):\n",
    "    registered_date = mongoengine.DateTimeField(default=datetime.datetime.now)\n",
    "    # default=datetime.datetime.now is a function that is evaluated\n",
    "    species = mongoengine.StringField(required=True)\n",
    "\n",
    "    length = mongoengine.FloatField(required=True)\n",
    "    name = mongoengine.StringField(required=True)\n",
    "    is_venomous = mongoengine.BooleanField(required=True)\n",
    "```"
   ]
  },
  {
   "cell_type": "markdown",
   "metadata": {
    "slideshow": {
     "slide_type": "fragment"
    }
   },
   "source": [
    "```python\n",
    "class Cage(mongoengine.Document):\n",
    "    registered_date = mongoengine.DateTimeField(default=datetime.datetime.now)\n",
    "\n",
    "    name = mongoengine.StringField(required=True)\n",
    "    price = mongoengine.FloatField(required=True)\n",
    "    square_meters = mongoengine.FloatField(required=True)\n",
    "    is_carpeted = mongoengine.BooleanField(required=True)\n",
    "    has_toys = mongoengine.BooleanField(required=True)\n",
    "    allow_dangerous_snakes = mongoengine.BooleanField(default=False)\n",
    "\n",
    "    # note that the bookings is nested inside cages\n",
    "    bookings = mongoengine.EmbeddedDocumentListField(Booking)\n",
    "\n",
    "    meta = {\n",
    "        'db_alias': 'core',\n",
    "        'collection': 'cages'\n",
    "    }\n",
    "    ```"
   ]
  },
  {
   "cell_type": "markdown",
   "metadata": {
    "slideshow": {
     "slide_type": "fragment"
    }
   },
   "source": [
    "![](images/cages.png)\n",
    "* bookings are embedded as a list"
   ]
  },
  {
   "cell_type": "markdown",
   "metadata": {
    "slideshow": {
     "slide_type": "slide"
    }
   },
   "source": [
    "# Implementation"
   ]
  },
  {
   "cell_type": "markdown",
   "metadata": {
    "slideshow": {
     "slide_type": "fragment"
    }
   },
   "source": [
    "## Create accounts"
   ]
  },
  {
   "cell_type": "code",
   "execution_count": 67,
   "metadata": {
    "slideshow": {
     "slide_type": "fragment"
    }
   },
   "outputs": [
    {
     "name": "stdout",
     "output_type": "stream",
     "text": [
      "Overwriting ./mongodb_files/src/snake_bnb/src/program_hosts.py\n"
     ]
    }
   ],
   "source": [
    "%%writefile './mongodb_files/src/snake_bnb/src/program_hosts.py'\n",
    "# %load ./mongodb_files/src/snake_bnb/src/program_hosts.py\n",
    "import datetime\n",
    "from colorama import Fore\n",
    "from dateutil import parser\n",
    "\n",
    "from infrastructure.switchlang import switch\n",
    "import infrastructure.state as state\n",
    "import services.data_service as svc\n",
    "\n",
    "def create_account():\n",
    "    print(' ****************** REGISTER **************** ')\n",
    "\n",
    "    name = input('What is your name? ')\n",
    "    email = input('What is your email? ').strip().lower()\n",
    "    #.lower() - makes everything lower case\n",
    "    #. strip() - removes spaces\n",
    "\n",
    "    old_account = svc.find_account_by_email(email)"
   ]
  },
  {
   "cell_type": "markdown",
   "metadata": {
    "slideshow": {
     "slide_type": "fragment"
    }
   },
   "source": [
    "## Notice that we called svc\n",
    "* This is not a developed package, this is a set of tools which you have built to do things\n",
    "* for instance, above we called `find_account_by_email`"
   ]
  },
  {
   "cell_type": "code",
   "execution_count": 68,
   "metadata": {
    "slideshow": {
     "slide_type": "subslide"
    }
   },
   "outputs": [
    {
     "name": "stdout",
     "output_type": "stream",
     "text": [
      "Overwriting ./mongo_test/src/snake_bnb/src/services/data_service.py\n"
     ]
    }
   ],
   "source": [
    "%%writefile ./mongo_test/src/snake_bnb/src/services/data_service.py\n",
    "# %load ./mongodb_files/src/snake_bnb/src/services/data_service.py\n",
    "from typing import List, Optional\n",
    "\n",
    "import datetime\n",
    "\n",
    "import bson\n",
    "\n",
    "from data.bookings import Booking\n",
    "from data.cages import Cage\n",
    "from data.owners import Owner\n",
    "from data.snakes import Snake\n",
    "\n",
    "\n",
    "def create_account(name: str, email: str) -> Owner:\n",
    "    # name: str restricts to a class\n",
    "    # -> means return an Owner\n",
    "    # this is a regular class\n",
    "    owner = Owner()\n",
    "    owner.name = name\n",
    "    owner.email = email\n",
    "\n",
    "    # puts this in the database\n",
    "    owner.save()\n",
    "\n",
    "    # returns to the database\n",
    "    return owner"
   ]
  },
  {
   "cell_type": "code",
   "execution_count": 70,
   "metadata": {
    "slideshow": {
     "slide_type": "subslide"
    }
   },
   "outputs": [
    {
     "name": "stdout",
     "output_type": "stream",
     "text": [
      "\u001b[37m****************  SNAKE BnB  ****************\n",
      "\u001b[32m\n",
      "             ~8I?? OM               \n",
      "            M..I?Z 7O?M             \n",
      "            ?   ?8   ?I8            \n",
      "           MOM???I?ZO??IZ           \n",
      "          M:??O??????MII            \n",
      "          OIIII$NI7??I$             \n",
      "               IIID?IIZ             \n",
      "  +$       ,IM ,~7??I7$             \n",
      "I?        MM   ?:::?7$              \n",
      "??              7,::?778+=~+??8       \n",
      "??Z             ?,:,:I7$I??????+~~+    \n",
      "??D          N==7,::,I77??????????=~$  \n",
      "~???        I~~I?,::,77$Z?????????????  \n",
      "???+~M   $+~+???? :::II7$II777II??????N \n",
      "OI??????????I$$M=,:+7??I$7I??????????? \n",
      " N$$$ZDI      =++:$???????????II78  \n",
      "               =~~:~~7II777$$Z      \n",
      "                     ~ZMM~ \n",
      "\u001b[37m*********************************************\n",
      "\n",
      "Welcome to Snake BnB!\n",
      "Why are you here?\n",
      "\n",
      "[g] Book a cage for your snake\n",
      "[h] Offer extra cage space\n",
      "\n",
      "Are you a [g]uest or [h]ost? h\n",
      " ****************** Welcome host **************** \n",
      "\n",
      "What action would you like to take:\n",
      "[C]reate an [a]ccount\n",
      "[L]ogin to your account\n",
      "List [y]our cages\n",
      "[R]egister a cage\n",
      "[U]pdate cage availability\n",
      "[V]iew your bookings\n",
      "Change [M]ode (guest or host)\n",
      "e[X]it app\n",
      "[?] Help (this info)\n",
      "\n",
      "> c\n",
      " ****************** REGISTER **************** \n",
      "What is your name? Josh\n",
      "What is your email? josh@josh.com\n",
      "\u001b[92mCreated new account with id 5db641fdcd8395ab3943b5e3.\u001b[37m\n",
      "\n",
      "Josh> exit()\n",
      "\n",
      "bye\n"
     ]
    }
   ],
   "source": [
    "%run -i \"./mongo_test/src/snake_bnb/src/program.py\""
   ]
  },
  {
   "cell_type": "markdown",
   "metadata": {
    "slideshow": {
     "slide_type": "subslide"
    }
   },
   "source": [
    "## But we do not want two hosts with the same e-mails"
   ]
  },
  {
   "cell_type": "code",
   "execution_count": 72,
   "metadata": {
    "slideshow": {
     "slide_type": "fragment"
    }
   },
   "outputs": [
    {
     "name": "stdout",
     "output_type": "stream",
     "text": [
      "Overwriting ./mongo_test/src/snake_bnb/src/services/data_service.py\n"
     ]
    }
   ],
   "source": [
    "%%writefile ./mongo_test/src/snake_bnb/src/services/data_service.py\n",
    "# %load ./mongodb_files/src/snake_bnb/src/services/data_service.py\n",
    "from typing import List, Optional\n",
    "\n",
    "import datetime\n",
    "\n",
    "import bson\n",
    "\n",
    "from data.bookings import Booking\n",
    "from data.cages import Cage\n",
    "from data.owners import Owner\n",
    "from data.snakes import Snake\n",
    "\n",
    "\n",
    "def create_account(name: str, email: str) -> Owner:\n",
    "    # name: str restricts to a class\n",
    "    # -> means return an Owner\n",
    "    # this is a regular class\n",
    "    owner = Owner()\n",
    "    owner.name = name\n",
    "    owner.email = email\n",
    "\n",
    "    # puts this in the database\n",
    "    owner.save()\n",
    "\n",
    "    # returns to the database\n",
    "    return owner\n",
    "\n",
    "# This is a function that finds acounts by email \n",
    "def find_account_by_email(email: str) -> Owner:\n",
    "    owner = Owner.objects(email=email).first()\n",
    "    return owner"
   ]
  },
  {
   "cell_type": "code",
   "execution_count": 75,
   "metadata": {
    "slideshow": {
     "slide_type": "subslide"
    }
   },
   "outputs": [
    {
     "name": "stdout",
     "output_type": "stream",
     "text": [
      "Overwriting ./mongodb_files/src/snake_bnb/src/program_hosts.py\n"
     ]
    }
   ],
   "source": [
    "%%writefile './mongodb_files/src/snake_bnb/src/program_hosts.py'\n",
    "# %load ./mongodb_files/src/snake_bnb/src/program_hosts.py\n",
    "import datetime\n",
    "from colorama import Fore\n",
    "from dateutil import parser\n",
    "\n",
    "from infrastructure.switchlang import switch\n",
    "import infrastructure.state as state\n",
    "import services.data_service as svc\n",
    "\n",
    "def create_account():\n",
    "    print(' ****************** REGISTER **************** ')\n",
    "\n",
    "    name = input('What is your name? ')\n",
    "    email = input('What is your email? ').strip().lower()\n",
    "    #.lower() - makes everything lower case\n",
    "    #. strip() - removes spaces\n",
    "###\n",
    "    old_account = svc.find_account_by_email(email)\n",
    "    if old_account:\n",
    "        error_msg(f\"ERROR: Account with email {email} already exists.\")\n",
    "        return\n",
    "    \n",
    "    state.active_account = svc.create_account(name, email)\n",
    "    success_msg(f\"Created new account with id {state.active_account.id}.\")"
   ]
  },
  {
   "cell_type": "markdown",
   "metadata": {
    "slideshow": {
     "slide_type": "subslide"
    }
   },
   "source": [
    "# Add a login"
   ]
  },
  {
   "cell_type": "code",
   "execution_count": 82,
   "metadata": {
    "slideshow": {
     "slide_type": "fragment"
    }
   },
   "outputs": [
    {
     "name": "stdout",
     "output_type": "stream",
     "text": [
      "Overwriting ./mongo_test/src/snake_bnb/src/program_hosts.py\n"
     ]
    }
   ],
   "source": [
    "%%writefile './mongo_test/src/snake_bnb/src/program_hosts.py'\n",
    "# %load ./mongodb_files/src/snake_bnb/src/program_hosts.py\n",
    "import datetime\n",
    "from colorama import Fore\n",
    "from dateutil import parser\n",
    "\n",
    "from infrastructure.switchlang import switch\n",
    "import infrastructure.state as state\n",
    "import services.data_service as svc\n",
    "\n",
    "def create_account():\n",
    "    print(' ****************** REGISTER **************** ')\n",
    "\n",
    "    name = input('What is your name? ')\n",
    "    email = input('What is your email? ').strip().lower()\n",
    "    #.lower() - makes everything lower case\n",
    "    #. strip() - removes spaces\n",
    "\n",
    "    old_account = svc.find_account_by_email(email)\n",
    "    if old_account:\n",
    "        error_msg(f\"ERROR: Account with email {email} already exists.\")\n",
    "        return\n",
    "    \n",
    "    state.active_account = svc.create_account(name, email)\n",
    "    success_msg(f\"Created new account with id {state.active_account.id}.\")\n",
    "\n",
    "###\n",
    "def log_into_account():\n",
    "    print(' ****************** LOGIN **************** ')\n",
    "\n",
    "    email = input('What is your email? ').strip().lower()\n",
    "    account = svc.find_account_by_email(email)\n",
    "\n",
    "    if not account:\n",
    "        error_msg(f'Could not find account with email {email}.')\n",
    "        return\n",
    "\n",
    "    state.active_account = account\n",
    "    success_msg('Logged in successfully.')"
   ]
  },
  {
   "cell_type": "code",
   "execution_count": 83,
   "metadata": {
    "slideshow": {
     "slide_type": "subslide"
    }
   },
   "outputs": [
    {
     "name": "stdout",
     "output_type": "stream",
     "text": [
      "\u001b[37m****************  SNAKE BnB  ****************\n",
      "\u001b[32m\n",
      "             ~8I?? OM               \n",
      "            M..I?Z 7O?M             \n",
      "            ?   ?8   ?I8            \n",
      "           MOM???I?ZO??IZ           \n",
      "          M:??O??????MII            \n",
      "          OIIII$NI7??I$             \n",
      "               IIID?IIZ             \n",
      "  +$       ,IM ,~7??I7$             \n",
      "I?        MM   ?:::?7$              \n",
      "??              7,::?778+=~+??8       \n",
      "??Z             ?,:,:I7$I??????+~~+    \n",
      "??D          N==7,::,I77??????????=~$  \n",
      "~???        I~~I?,::,77$Z?????????????  \n",
      "???+~M   $+~+???? :::II7$II777II??????N \n",
      "OI??????????I$$M=,:+7??I$7I??????????? \n",
      " N$$$ZDI      =++:$???????????II78  \n",
      "               =~~:~~7II777$$Z      \n",
      "                     ~ZMM~ \n",
      "\u001b[37m*********************************************\n",
      "\n",
      "Welcome to Snake BnB!\n",
      "Why are you here?\n",
      "\n",
      "[g] Book a cage for your snake\n",
      "[h] Offer extra cage space\n",
      "\n",
      "Are you a [g]uest or [h]ost? h\n",
      " ****************** Welcome host **************** \n",
      "\n",
      "What action would you like to take:\n",
      "[C]reate an [a]ccount\n",
      "[L]ogin to your account\n",
      "List [y]our cages\n",
      "[R]egister a cage\n",
      "[U]pdate cage availability\n",
      "[V]iew your bookings\n",
      "Change [M]ode (guest or host)\n",
      "e[X]it app\n",
      "[?] Help (this info)\n",
      "\n",
      "jeff> l\n",
      " ****************** LOGIN **************** \n",
      "What is your email? jeff@gmail.com\n",
      "\u001b[92mLogged in successfully.\u001b[37m\n",
      "\n",
      "jeff> exit()\n",
      "\n",
      "bye\n"
     ]
    }
   ],
   "source": [
    "%run -i \"./mongo_test/src/snake_bnb/src/program.py\""
   ]
  },
  {
   "cell_type": "markdown",
   "metadata": {
    "slideshow": {
     "slide_type": "subslide"
    }
   },
   "source": [
    "# Register a Cage\n",
    "* Cage has to be associated with owner"
   ]
  },
  {
   "cell_type": "code",
   "execution_count": 84,
   "metadata": {
    "slideshow": {
     "slide_type": "fragment"
    }
   },
   "outputs": [
    {
     "name": "stdout",
     "output_type": "stream",
     "text": [
      "Overwriting ./mongo_test/src/snake_bnb/src/program_hosts.py\n"
     ]
    }
   ],
   "source": [
    "%%writefile './mongo_test/src/snake_bnb/src/program_hosts.py'\n",
    "# %load ./mongodb_files/src/snake_bnb/src/program_hosts.py\n",
    "import datetime\n",
    "from colorama import Fore\n",
    "from dateutil import parser\n",
    "\n",
    "from infrastructure.switchlang import switch\n",
    "import infrastructure.state as state\n",
    "import services.data_service as svc\n",
    "\n",
    "def create_account():\n",
    "    print(' ****************** REGISTER **************** ')\n",
    "\n",
    "    name = input('What is your name? ')\n",
    "    email = input('What is your email? ').strip().lower()\n",
    "    #.lower() - makes everything lower case\n",
    "    #. strip() - removes spaces\n",
    "\n",
    "    old_account = svc.find_account_by_email(email)\n",
    "    if old_account:\n",
    "        error_msg(f\"ERROR: Account with email {email} already exists.\")\n",
    "        return\n",
    "    \n",
    "    state.active_account = svc.create_account(name, email)\n",
    "    success_msg(f\"Created new account with id {state.active_account.id}.\")\n",
    "\n",
    "def log_into_account():\n",
    "    print(' ****************** LOGIN **************** ')\n",
    "\n",
    "    email = input('What is your email? ').strip().lower()\n",
    "    account = svc.find_account_by_email(email)\n",
    "\n",
    "    if not account:\n",
    "        error_msg(f'Could not find account with email {email}.')\n",
    "        return\n",
    "\n",
    "    state.active_account = account\n",
    "    success_msg('Logged in successfully.')\n",
    "    \n",
    "def register_cage():\n",
    "    print(' ****************** REGISTER CAGE **************** ')\n",
    "\n",
    "    # Checks if there is an account\n",
    "    if not state.active_account:\n",
    "        error_msg('You must login first to register a cage.')\n",
    "        return\n",
    "    \n",
    "    # records how big the cage is\n",
    "    meters = input('How many square meters is the cage? ')\n",
    "    if not meters:\n",
    "        error_msg('Cancelled')\n",
    "        return\n",
    "\n",
    "    # a bunch of user questions\n",
    "    meters = float(meters)\n",
    "    carpeted = input(\"Is it carpeted [y, n]? \").lower().startswith('y')\n",
    "    has_toys = input(\"Have snake toys [y, n]? \").lower().startswith('y')\n",
    "    allow_dangerous = input(\"Can you host venomous snakes [y, n]? \").lower().startswith('y')\n",
    "    name = input(\"Give your cage a name: \")\n",
    "    price = float(input(\"How much are you charging?  \"))\n",
    "    \n",
    "    # registers the data\n",
    "    cage = svc.register_cage(\n",
    "        state.active_account, #account\n",
    "        name, #name\n",
    "        allow_dangerous, has_toys, carpeted, meters, price\n",
    "    )\n",
    "\n",
    "    state.reload_account() # updates the account in the memory\n",
    "    success_msg(f'Register new cage with id {cage.id}.')\n",
    "\n",
    "    \n"
   ]
  },
  {
   "cell_type": "code",
   "execution_count": 85,
   "metadata": {
    "slideshow": {
     "slide_type": "subslide"
    }
   },
   "outputs": [
    {
     "name": "stdout",
     "output_type": "stream",
     "text": [
      "Overwriting ./mongo_test/src/snake_bnb/src/services/data_service.py\n"
     ]
    }
   ],
   "source": [
    "%%writefile ./mongo_test/src/snake_bnb/src/services/data_service.py\n",
    "# %load ./mongodb_files/src/snake_bnb/src/services/data_service.py\n",
    "from typing import List, Optional\n",
    "\n",
    "import datetime\n",
    "\n",
    "import bson\n",
    "\n",
    "from data.bookings import Booking\n",
    "from data.cages import Cage\n",
    "from data.owners import Owner\n",
    "from data.snakes import Snake\n",
    "\n",
    "\n",
    "def create_account(name: str, email: str) -> Owner:\n",
    "    # name: str restricts to a class\n",
    "    # -> means return an Owner\n",
    "    # this is a regular class\n",
    "    owner = Owner()\n",
    "    owner.name = name\n",
    "    owner.email = email\n",
    "\n",
    "    # puts this in the database\n",
    "    owner.save()\n",
    "\n",
    "    # returns to the database\n",
    "    return owner\n",
    "\n",
    "# This is a function that finds acounts by email \n",
    "def find_account_by_email(email: str) -> Owner:\n",
    "    owner = Owner.objects(email=email).first()\n",
    "    return owner\n",
    "###\n",
    "# create the cage function\n",
    "def register_cage(active_account: Owner,\n",
    "                  name, allow_dangerous, has_toys,\n",
    "                  carpeted, meters, price) -> Cage:\n",
    "    cage = Cage()\n",
    "\n",
    "    cage.name = name\n",
    "    cage.square_meters = meters\n",
    "    cage.is_carpeted = carpeted\n",
    "    cage.has_toys = has_toys\n",
    "    cage.allow_dangerous_snakes = allow_dangerous\n",
    "    cage.price = price\n",
    "\n",
    "    cage.save() #stores it in the database\n",
    "\n",
    "    account = find_account_by_email(active_account.email) #gets the latest account\n",
    "    account.cage_ids.append(cage.id) # because saved, you can call to get cage id\n",
    "    account.save() # pushes changes to database\n",
    "\n",
    "    return cage"
   ]
  },
  {
   "cell_type": "markdown",
   "metadata": {
    "slideshow": {
     "slide_type": "subslide"
    }
   },
   "source": [
    "# List your cages"
   ]
  },
  {
   "cell_type": "code",
   "execution_count": 87,
   "metadata": {
    "slideshow": {
     "slide_type": "fragment"
    }
   },
   "outputs": [
    {
     "name": "stdout",
     "output_type": "stream",
     "text": [
      "Overwriting ./mongo_test/src/snake_bnb/src/program_hosts.py\n"
     ]
    }
   ],
   "source": [
    "%%writefile './mongo_test/src/snake_bnb/src/program_hosts.py'\n",
    "# %load ./mongodb_files/src/snake_bnb/src/program_hosts.py\n",
    "import datetime\n",
    "from colorama import Fore\n",
    "from dateutil import parser\n",
    "\n",
    "from infrastructure.switchlang import switch\n",
    "import infrastructure.state as state\n",
    "import services.data_service as svc\n",
    "\n",
    "def create_account():\n",
    "    print(' ****************** REGISTER **************** ')\n",
    "\n",
    "    name = input('What is your name? ')\n",
    "    email = input('What is your email? ').strip().lower()\n",
    "    #.lower() - makes everything lower case\n",
    "    #. strip() - removes spaces\n",
    "\n",
    "    old_account = svc.find_account_by_email(email)\n",
    "    if old_account:\n",
    "        error_msg(f\"ERROR: Account with email {email} already exists.\")\n",
    "        return\n",
    "    \n",
    "    state.active_account = svc.create_account(name, email)\n",
    "    success_msg(f\"Created new account with id {state.active_account.id}.\")\n",
    "\n",
    "def log_into_account():\n",
    "    print(' ****************** LOGIN **************** ')\n",
    "\n",
    "    email = input('What is your email? ').strip().lower()\n",
    "    account = svc.find_account_by_email(email)\n",
    "\n",
    "    if not account:\n",
    "        error_msg(f'Could not find account with email {email}.')\n",
    "        return\n",
    "\n",
    "    state.active_account = account\n",
    "    success_msg('Logged in successfully.')\n",
    "    \n",
    "def register_cage():\n",
    "    print(' ****************** REGISTER CAGE **************** ')\n",
    "\n",
    "    # Checks if there is an account\n",
    "    if not state.active_account:\n",
    "        error_msg('You must login first to register a cage.')\n",
    "        return\n",
    "    \n",
    "    # records how big the cage is\n",
    "    meters = input('How many square meters is the cage? ')\n",
    "    if not meters:\n",
    "        error_msg('Cancelled')\n",
    "        return\n",
    "\n",
    "    # a bunch of user questions\n",
    "    meters = float(meters)\n",
    "    carpeted = input(\"Is it carpeted [y, n]? \").lower().startswith('y')\n",
    "    has_toys = input(\"Have snake toys [y, n]? \").lower().startswith('y')\n",
    "    allow_dangerous = input(\"Can you host venomous snakes [y, n]? \").lower().startswith('y')\n",
    "    name = input(\"Give your cage a name: \")\n",
    "    price = float(input(\"How much are you charging?  \"))\n",
    "    \n",
    "    # registers the data\n",
    "    cage = svc.register_cage(\n",
    "        state.active_account, #account\n",
    "        name, #name\n",
    "        allow_dangerous, has_toys, carpeted, meters, price\n",
    "    )\n",
    "\n",
    "    state.reload_account() # updates the account in the memory\n",
    "    success_msg(f'Register new cage with id {cage.id}.')\n",
    "\n",
    "    \n",
    "###\n",
    "\n",
    "def find_cages_for_user(account: Owner) -> List[Cage]: # returns a list of cages\n",
    "    query = Cage.objects(id__in=account.cage_ids)\n",
    "    # $ operators are done with __\n",
    "    # find id that are in list\n",
    "    # goes to cages and returns all that have this id\n",
    "    cages = list(query)\n",
    "\n",
    "    return cages    \n"
   ]
  },
  {
   "cell_type": "code",
   "execution_count": 86,
   "metadata": {
    "slideshow": {
     "slide_type": "subslide"
    }
   },
   "outputs": [
    {
     "name": "stdout",
     "output_type": "stream",
     "text": [
      "Overwriting ./mongo_test/src/snake_bnb/src/program_hosts.py\n"
     ]
    }
   ],
   "source": [
    "%%writefile './mongo_test/src/snake_bnb/src/program_hosts.py'\n",
    "# %load ./mongodb_files/src/snake_bnb/src/program_hosts.py\n",
    "import datetime\n",
    "from colorama import Fore\n",
    "from dateutil import parser\n",
    "\n",
    "from infrastructure.switchlang import switch\n",
    "import infrastructure.state as state\n",
    "import services.data_service as svc\n",
    "\n",
    "def create_account():\n",
    "    print(' ****************** REGISTER **************** ')\n",
    "\n",
    "    name = input('What is your name? ')\n",
    "    email = input('What is your email? ').strip().lower()\n",
    "    #.lower() - makes everything lower case\n",
    "    #. strip() - removes spaces\n",
    "\n",
    "    old_account = svc.find_account_by_email(email)\n",
    "    if old_account:\n",
    "        error_msg(f\"ERROR: Account with email {email} already exists.\")\n",
    "        return\n",
    "    \n",
    "    state.active_account = svc.create_account(name, email)\n",
    "    success_msg(f\"Created new account with id {state.active_account.id}.\")\n",
    "\n",
    "def log_into_account():\n",
    "    print(' ****************** LOGIN **************** ')\n",
    "\n",
    "    email = input('What is your email? ').strip().lower()\n",
    "    account = svc.find_account_by_email(email)\n",
    "\n",
    "    if not account:\n",
    "        error_msg(f'Could not find account with email {email}.')\n",
    "        return\n",
    "\n",
    "    state.active_account = account\n",
    "    success_msg('Logged in successfully.')\n",
    "    \n",
    "def register_cage():\n",
    "    print(' ****************** REGISTER CAGE **************** ')\n",
    "\n",
    "    # Checks if there is an account\n",
    "    if not state.active_account:\n",
    "        error_msg('You must login first to register a cage.')\n",
    "        return\n",
    "    \n",
    "    # records how big the cage is\n",
    "    meters = input('How many square meters is the cage? ')\n",
    "    if not meters:\n",
    "        error_msg('Cancelled')\n",
    "        return\n",
    "\n",
    "    # a bunch of user questions\n",
    "    meters = float(meters)\n",
    "    carpeted = input(\"Is it carpeted [y, n]? \").lower().startswith('y')\n",
    "    has_toys = input(\"Have snake toys [y, n]? \").lower().startswith('y')\n",
    "    allow_dangerous = input(\"Can you host venomous snakes [y, n]? \").lower().startswith('y')\n",
    "    name = input(\"Give your cage a name: \")\n",
    "    price = float(input(\"How much are you charging?  \"))\n",
    "    \n",
    "    # registers the data\n",
    "    cage = svc.register_cage(\n",
    "        state.active_account, #account\n",
    "        name, #name\n",
    "        allow_dangerous, has_toys, carpeted, meters, price\n",
    "    )\n",
    "\n",
    "    state.reload_account() # updates the account in the memory\n",
    "    success_msg(f'Register new cage with id {cage.id}.')\n",
    "    \n",
    "###\n",
    "def list_cages(suppress_header=False):\n",
    "    if not suppress_header:\n",
    "        print(' ******************     Your cages     **************** ')\n",
    "\n",
    "    if not state.active_account:\n",
    "        error_msg('You must login first to register a cage.')\n",
    "        return\n",
    "\n",
    "    cages = svc.find_cages_for_user(state.active_account)\n",
    "    print(f\"You have {len(cages)} cages.\")\n",
    "    for idx, c in enumerate(cages):\n",
    "        print(f' {idx + 1}. {c.name} is {c.square_meters} meters.')\n",
    "        "
   ]
  },
  {
   "cell_type": "code",
   "execution_count": 89,
   "metadata": {
    "slideshow": {
     "slide_type": "subslide"
    }
   },
   "outputs": [
    {
     "name": "stdout",
     "output_type": "stream",
     "text": [
      "\u001b[37m****************  SNAKE BnB  ****************\n",
      "\u001b[32m\n",
      "             ~8I?? OM               \n",
      "            M..I?Z 7O?M             \n",
      "            ?   ?8   ?I8            \n",
      "           MOM???I?ZO??IZ           \n",
      "          M:??O??????MII            \n",
      "          OIIII$NI7??I$             \n",
      "               IIID?IIZ             \n",
      "  +$       ,IM ,~7??I7$             \n",
      "I?        MM   ?:::?7$              \n",
      "??              7,::?778+=~+??8       \n",
      "??Z             ?,:,:I7$I??????+~~+    \n",
      "??D          N==7,::,I77??????????=~$  \n",
      "~???        I~~I?,::,77$Z?????????????  \n",
      "???+~M   $+~+???? :::II7$II777II??????N \n",
      "OI??????????I$$M=,:+7??I$7I??????????? \n",
      " N$$$ZDI      =++:$???????????II78  \n",
      "               =~~:~~7II777$$Z      \n",
      "                     ~ZMM~ \n",
      "\u001b[37m*********************************************\n",
      "\n",
      "Welcome to Snake BnB!\n",
      "Why are you here?\n",
      "\n",
      "[g] Book a cage for your snake\n",
      "[h] Offer extra cage space\n",
      "\n",
      "Are you a [g]uest or [h]ost? h\n",
      " ****************** Welcome host **************** \n",
      "\n",
      "What action would you like to take:\n",
      "[C]reate an [a]ccount\n",
      "[L]ogin to your account\n",
      "List [y]our cages\n",
      "[R]egister a cage\n",
      "[U]pdate cage availability\n",
      "[V]iew your bookings\n",
      "Change [M]ode (guest or host)\n",
      "e[X]it app\n",
      "[?] Help (this info)\n",
      "\n",
      "jeff> l\n",
      " ****************** LOGIN **************** \n",
      "What is your email? jeff@gmail.com\n",
      "\u001b[92mLogged in successfully.\u001b[37m\n",
      "\n",
      "jeff> y\n",
      " ******************     Your cages     **************** \n",
      "You have 0 cages.\n",
      "\n",
      "jeff> r\n",
      " ****************** REGISTER CAGE **************** \n",
      "How many square meters is the cage? 1\n",
      "Is it carpeted [y, n]? n\n",
      "Have snake toys [y, n]? y\n",
      "Can you host venomous snakes [y, n]? n\n",
      "Give your cage a name: expensive\n",
      "How much are you charging?  10000\n",
      "\u001b[92mRegister new cage with id 5db64ba0cd8395ab3943b5e5.\u001b[37m\n",
      "\n",
      "jeff> y\n",
      " ******************     Your cages     **************** \n",
      "You have 1 cages.\n",
      " 1. expensive is 1.0 meters.\n",
      "\n",
      "jeff> r\n",
      " ****************** REGISTER CAGE **************** \n",
      "How many square meters is the cage? 4999\n",
      "Is it carpeted [y, n]? y\n",
      "Have snake toys [y, n]? y\n",
      "Can you host venomous snakes [y, n]? y\n",
      "Give your cage a name: big\n",
      "How much are you charging?  39\n",
      "\u001b[92mRegister new cage with id 5db64bbbcd8395ab3943b5e6.\u001b[37m\n",
      "\n",
      "jeff> exit()\n",
      "\n",
      "bye\n"
     ]
    }
   ],
   "source": [
    "%run -i \"./mongo_test/src/snake_bnb/src/program.py\""
   ]
  },
  {
   "cell_type": "markdown",
   "metadata": {
    "slideshow": {
     "slide_type": "slide"
    }
   },
   "source": [
    "# Add a bookable time"
   ]
  },
  {
   "cell_type": "code",
   "execution_count": 92,
   "metadata": {
    "slideshow": {
     "slide_type": "fragment"
    }
   },
   "outputs": [
    {
     "name": "stdout",
     "output_type": "stream",
     "text": [
      "Overwriting ./mongo_test/src/snake_bnb/src/program_hosts.py\n"
     ]
    }
   ],
   "source": [
    "%%writefile './mongo_test/src/snake_bnb/src/program_hosts.py'\n",
    "# %load ./mongodb_files/src/snake_bnb/src/program_hosts.py\n",
    "import datetime\n",
    "from colorama import Fore\n",
    "from dateutil import parser\n",
    "\n",
    "from infrastructure.switchlang import switch\n",
    "import infrastructure.state as state\n",
    "import services.data_service as svc\n",
    "\n",
    "def create_account():\n",
    "    print(' ****************** REGISTER **************** ')\n",
    "\n",
    "    name = input('What is your name? ')\n",
    "    email = input('What is your email? ').strip().lower()\n",
    "    #.lower() - makes everything lower case\n",
    "    #. strip() - removes spaces\n",
    "\n",
    "    old_account = svc.find_account_by_email(email)\n",
    "    if old_account:\n",
    "        error_msg(f\"ERROR: Account with email {email} already exists.\")\n",
    "        return\n",
    "    \n",
    "    state.active_account = svc.create_account(name, email)\n",
    "    success_msg(f\"Created new account with id {state.active_account.id}.\")\n",
    "\n",
    "def log_into_account():\n",
    "    print(' ****************** LOGIN **************** ')\n",
    "\n",
    "    email = input('What is your email? ').strip().lower()\n",
    "    account = svc.find_account_by_email(email)\n",
    "\n",
    "    if not account:\n",
    "        error_msg(f'Could not find account with email {email}.')\n",
    "        return\n",
    "\n",
    "    state.active_account = account\n",
    "    success_msg('Logged in successfully.')\n",
    "    \n",
    "def register_cage():\n",
    "    print(' ****************** REGISTER CAGE **************** ')\n",
    "\n",
    "    # Checks if there is an account\n",
    "    if not state.active_account:\n",
    "        error_msg('You must login first to register a cage.')\n",
    "        return\n",
    "    \n",
    "    # records how big the cage is\n",
    "    meters = input('How many square meters is the cage? ')\n",
    "    if not meters:\n",
    "        error_msg('Cancelled')\n",
    "        return\n",
    "\n",
    "    # a bunch of user questions\n",
    "    meters = float(meters)\n",
    "    carpeted = input(\"Is it carpeted [y, n]? \").lower().startswith('y')\n",
    "    has_toys = input(\"Have snake toys [y, n]? \").lower().startswith('y')\n",
    "    allow_dangerous = input(\"Can you host venomous snakes [y, n]? \").lower().startswith('y')\n",
    "    name = input(\"Give your cage a name: \")\n",
    "    price = float(input(\"How much are you charging?  \"))\n",
    "    \n",
    "    # registers the data\n",
    "    cage = svc.register_cage(\n",
    "        state.active_account, #account\n",
    "        name, #name\n",
    "        allow_dangerous, has_toys, carpeted, meters, price\n",
    "    )\n",
    "\n",
    "    state.reload_account() # updates the account in the memory\n",
    "    success_msg(f'Register new cage with id {cage.id}.')\n",
    "    \n",
    "def list_cages(suppress_header=False):\n",
    "    if not suppress_header:\n",
    "        print(' ******************     Your cages     **************** ')\n",
    "\n",
    "    if not state.active_account:\n",
    "        error_msg('You must login first to register a cage.')\n",
    "        return\n",
    "\n",
    "    cages = svc.find_cages_for_user(state.active_account)\n",
    "    print(f\"You have {len(cages)} cages.\")\n",
    "    for idx, c in enumerate(cages):\n",
    "        print(f' {idx + 1}. {c.name} is {c.square_meters} meters.')\n",
    "        for b in c.bookings:\n",
    "            print('      * Booking: {}, {} days, booked? {}'.format(\n",
    "                b.check_in_date,\n",
    "                (b.check_out_date - b.check_in_date).days,\n",
    "                'YES' if b.booked_date is not None else 'no'\n",
    "            ))\n",
    "        \n",
    "###\n",
    "def update_availability():\n",
    "    print(' ****************** Add available date **************** ')\n",
    "\n",
    "    # need to have an account\n",
    "    if not state.active_account:\n",
    "        error_msg(\"You must log in first to register a cage\")\n",
    "        return\n",
    "\n",
    "    # prints out the cages\n",
    "    list_cages(suppress_header=True)\n",
    "\n",
    "    cage_number = input(\"Enter cage number: \")\n",
    "    if not cage_number.strip():\n",
    "        error_msg('Cancelled')\n",
    "        print()\n",
    "        return\n",
    "\n",
    "    cage_number = int(cage_number)\n",
    "\n",
    "    # get cages\n",
    "    cages = svc.find_cages_for_user(state.active_account)\n",
    "    selected_cage = cages[cage_number - 1]\n",
    "\n",
    "    success_msg(\"Selected cage {}\".format(selected_cage.name))\n",
    "\n",
    "    start_date = parser.parse(\n",
    "        input(\"Enter available date [yyyy-mm-dd]: \")\n",
    "    )\n",
    "    days = int(input(\"How many days is this block of time? \"))\n",
    "\n",
    "    # new data access method\n",
    "    svc.add_available_date(\n",
    "        selected_cage,\n",
    "        start_date,\n",
    "        days\n",
    "    )\n",
    "    state.reload_account()\n",
    "\n",
    "    success_msg(f'Date added to cage {selected_cage.name}.')\n",
    "        "
   ]
  },
  {
   "cell_type": "code",
   "execution_count": 93,
   "metadata": {
    "slideshow": {
     "slide_type": "subslide"
    }
   },
   "outputs": [
    {
     "name": "stdout",
     "output_type": "stream",
     "text": [
      "Overwriting ./mongo_test/src/snake_bnb/src/services/data_service.py\n"
     ]
    }
   ],
   "source": [
    "%%writefile ./mongo_test/src/snake_bnb/src/services/data_service.py\n",
    "# %load ./mongodb_files/src/snake_bnb/src/services/data_service.py\n",
    "from typing import List, Optional\n",
    "\n",
    "import datetime\n",
    "\n",
    "import bson\n",
    "\n",
    "from data.bookings import Booking\n",
    "from data.cages import Cage\n",
    "from data.owners import Owner\n",
    "from data.snakes import Snake\n",
    "\n",
    "\n",
    "def create_account(name: str, email: str) -> Owner:\n",
    "    # name: str restricts to a class\n",
    "    # -> means return an Owner\n",
    "    # this is a regular class\n",
    "    owner = Owner()\n",
    "    owner.name = name\n",
    "    owner.email = email\n",
    "\n",
    "    # puts this in the database\n",
    "    owner.save()\n",
    "\n",
    "    # returns to the database\n",
    "    return owner\n",
    "\n",
    "# This is a function that finds acounts by email \n",
    "def find_account_by_email(email: str) -> Owner:\n",
    "    owner = Owner.objects(email=email).first()\n",
    "    return owner\n",
    "\n",
    "# create the cage function\n",
    "def register_cage(active_account: Owner,\n",
    "                  name, allow_dangerous, has_toys,\n",
    "                  carpeted, meters, price) -> Cage:\n",
    "    cage = Cage()\n",
    "\n",
    "    cage.name = name\n",
    "    cage.square_meters = meters\n",
    "    cage.is_carpeted = carpeted\n",
    "    cage.has_toys = has_toys\n",
    "    cage.allow_dangerous_snakes = allow_dangerous\n",
    "    cage.price = price\n",
    "\n",
    "    cage.save() #stores it in the database\n",
    "\n",
    "    account = find_account_by_email(active_account.email) #gets the latest account\n",
    "    account.cage_ids.append(cage.id) # because saved, you can call to get cage id\n",
    "    account.save() # pushes changes to database\n",
    "\n",
    "    return cage\n",
    "\n",
    "###\n",
    "\n",
    "def add_available_date(cage: Cage,\n",
    "                       start_date: datetime.datetime, days: int) -> Cage:\n",
    "    booking = Booking()\n",
    "    booking.check_in_date = start_date\n",
    "    booking.check_out_date = start_date + datetime.timedelta(days=days)\n",
    "\n",
    "    cage = Cage.objects(id=cage.id).first()\n",
    "    cage.bookings.append(booking) # bookings live inside the cages \n",
    "    cage.save()\n",
    "\n",
    "    return cage"
   ]
  },
  {
   "cell_type": "code",
   "execution_count": 94,
   "metadata": {
    "slideshow": {
     "slide_type": "subslide"
    }
   },
   "outputs": [
    {
     "name": "stdout",
     "output_type": "stream",
     "text": [
      "\u001b[37m****************  SNAKE BnB  ****************\n",
      "\u001b[32m\n",
      "             ~8I?? OM               \n",
      "            M..I?Z 7O?M             \n",
      "            ?   ?8   ?I8            \n",
      "           MOM???I?ZO??IZ           \n",
      "          M:??O??????MII            \n",
      "          OIIII$NI7??I$             \n",
      "               IIID?IIZ             \n",
      "  +$       ,IM ,~7??I7$             \n",
      "I?        MM   ?:::?7$              \n",
      "??              7,::?778+=~+??8       \n",
      "??Z             ?,:,:I7$I??????+~~+    \n",
      "??D          N==7,::,I77??????????=~$  \n",
      "~???        I~~I?,::,77$Z?????????????  \n",
      "???+~M   $+~+???? :::II7$II777II??????N \n",
      "OI??????????I$$M=,:+7??I$7I??????????? \n",
      " N$$$ZDI      =++:$???????????II78  \n",
      "               =~~:~~7II777$$Z      \n",
      "                     ~ZMM~ \n",
      "\u001b[37m*********************************************\n",
      "\n",
      "Welcome to Snake BnB!\n",
      "Why are you here?\n",
      "\n",
      "[g] Book a cage for your snake\n",
      "[h] Offer extra cage space\n",
      "\n",
      "Are you a [g]uest or [h]ost? h\n",
      " ****************** Welcome host **************** \n",
      "\n",
      "What action would you like to take:\n",
      "[C]reate an [a]ccount\n",
      "[L]ogin to your account\n",
      "List [y]our cages\n",
      "[R]egister a cage\n",
      "[U]pdate cage availability\n",
      "[V]iew your bookings\n",
      "Change [M]ode (guest or host)\n",
      "e[X]it app\n",
      "[?] Help (this info)\n",
      "\n",
      "jeff> l\n",
      " ****************** LOGIN **************** \n",
      "What is your email? jeff@gmail.com\n",
      "\u001b[92mLogged in successfully.\u001b[37m\n",
      "\n",
      "jeff> y\n",
      " ******************     Your cages     **************** \n",
      "You have 2 cages.\n",
      " 1. expensive is 1.0 meters.\n",
      " 2. big is 4999.0 meters.\n",
      "\n",
      "jeff> u\n",
      " ****************** Add available date **************** \n",
      "You have 2 cages.\n",
      " 1. expensive is 1.0 meters.\n",
      " 2. big is 4999.0 meters.\n",
      "Enter cage number: 2\n",
      "\u001b[92mSelected cage big\u001b[37m\n",
      "Enter available date [yyyy-mm-dd]: 2018-01-01\n",
      "How many days is this block of time? 5\n",
      "\u001b[92mDate added to cage big.\u001b[37m\n",
      "\n",
      "jeff> y\n",
      " ******************     Your cages     **************** \n",
      "You have 2 cages.\n",
      " 1. expensive is 1.0 meters.\n",
      " 2. big is 4999.0 meters.\n",
      "      * Booking: 2018-01-01 00:00:00, 5 days, booked? no\n",
      "\n",
      "jeff> exit()\n",
      "\n",
      "bye\n"
     ]
    }
   ],
   "source": [
    "%run -i \"./mongo_test/src/snake_bnb/src/program.py\""
   ]
  },
  {
   "cell_type": "markdown",
   "metadata": {
    "slideshow": {
     "slide_type": "slide"
    }
   },
   "source": [
    "# Guest side"
   ]
  },
  {
   "cell_type": "code",
   "execution_count": 102,
   "metadata": {
    "slideshow": {
     "slide_type": "fragment"
    }
   },
   "outputs": [
    {
     "name": "stdout",
     "output_type": "stream",
     "text": [
      "Overwriting ./mongo_test/src/snake_bnb/src/program_guests.py\n"
     ]
    }
   ],
   "source": [
    "%%writefile ./mongo_test/src/snake_bnb/src/program_guests.py\n",
    "# %load ./mongodb_files/src/snake_bnb/src/program_guests.py\n",
    "import datetime\n",
    "from dateutil import parser\n",
    "\n",
    "from infrastructure.switchlang import switch\n",
    "import program_hosts as hosts\n",
    "import services.data_service as svc\n",
    "from program_hosts import success_msg, error_msg\n",
    "import infrastructure.state as state\n",
    "\n",
    "# this just prints out the option\n",
    "def run():\n",
    "    print(' ****************** Welcome guest **************** ')\n",
    "    print()\n",
    "\n",
    "    show_commands()\n",
    "\n",
    "    while True:\n",
    "        action = hosts.get_action()\n",
    "\n",
    "        with switch(action) as s:\n",
    "            s.case('c', hosts.create_account)\n",
    "            s.case('l', hosts.log_into_account)\n",
    "\n",
    "            s.case('a', add_a_snake)\n",
    "            s.case('y', view_your_snakes)\n",
    "            s.case('b', book_a_cage)\n",
    "            s.case('v', view_bookings)\n",
    "            s.case('m', lambda: 'change_mode')\n",
    "\n",
    "            s.case('?', show_commands)\n",
    "            s.case('', lambda: None)\n",
    "            s.case(['x', 'bye', 'exit', 'exit()'], hosts.exit_app)\n",
    "\n",
    "            s.default(hosts.unknown_command)\n",
    "\n",
    "        state.reload_account()\n",
    "\n",
    "        if action:\n",
    "            print()\n",
    "\n",
    "        if s.result == 'change_mode':\n",
    "            return\n",
    "\n",
    "\n",
    "def show_commands():\n",
    "    print('What action would you like to take:')\n",
    "    print('[C]reate an account')\n",
    "    print('[L]ogin to your account')\n",
    "    print('[B]ook a cage')\n",
    "    print('[A]dd a snake')\n",
    "    print('View [y]our snakes')\n",
    "    print('[V]iew your bookings')\n",
    "    print('[M]ain menu')\n",
    "    print('e[X]it app')\n",
    "    print('[?] Help (this info)')\n",
    "    print()\n",
    "\n",
    "# this is just like creating the cage\n",
    "def add_a_snake():\n",
    "    print(' ****************** Add a snake **************** ')\n",
    "    if not state.active_account:\n",
    "        error_msg(\"You must log in first to add a snake\")\n",
    "        return\n",
    "\n",
    "    name = input(\"What is your snake's name? \")\n",
    "    if not name:\n",
    "        error_msg('cancelled')\n",
    "        return\n",
    "\n",
    "    length = float(input('How long is your snake (in meters)? '))\n",
    "    species = input(\"Species? \")\n",
    "    is_venomous = input(\"Is your snake venomous [y]es, [n]o? \").lower().startswith('y')\n",
    "\n",
    "    snake = svc.add_snake(state.active_account, name, length, species, is_venomous)\n",
    "    state.reload_account()\n",
    "    success_msg('Created {} with id {}'.format(snake.name, snake.id))\n",
    "\n",
    "\n",
    "def view_your_snakes():\n",
    "    print(' ****************** Your snakes **************** ')\n",
    "    if not state.active_account:\n",
    "        error_msg(\"You must log in first to view your snakes\")\n",
    "        return\n",
    "\n",
    "    snakes = svc.get_snakes_for_user(state.active_account.id)\n",
    "    print(\"You have {} snakes.\".format(len(snakes)))\n",
    "    for s in snakes:\n",
    "        print(\" * {} is a {} that is {}m long and is {}venomous.\".format(\n",
    "            s.name,\n",
    "            s.species,\n",
    "            s.length,\n",
    "            '' if s.is_venomous else 'not '\n",
    "        ))"
   ]
  },
  {
   "cell_type": "code",
   "execution_count": 103,
   "metadata": {
    "slideshow": {
     "slide_type": "subslide"
    }
   },
   "outputs": [
    {
     "name": "stdout",
     "output_type": "stream",
     "text": [
      "\u001b[37m****************  SNAKE BnB  ****************\n",
      "\u001b[32m\n",
      "             ~8I?? OM               \n",
      "            M..I?Z 7O?M             \n",
      "            ?   ?8   ?I8            \n",
      "           MOM???I?ZO??IZ           \n",
      "          M:??O??????MII            \n",
      "          OIIII$NI7??I$             \n",
      "               IIID?IIZ             \n",
      "  +$       ,IM ,~7??I7$             \n",
      "I?        MM   ?:::?7$              \n",
      "??              7,::?778+=~+??8       \n",
      "??Z             ?,:,:I7$I??????+~~+    \n",
      "??D          N==7,::,I77??????????=~$  \n",
      "~???        I~~I?,::,77$Z?????????????  \n",
      "???+~M   $+~+???? :::II7$II777II??????N \n",
      "OI??????????I$$M=,:+7??I$7I??????????? \n",
      " N$$$ZDI      =++:$???????????II78  \n",
      "               =~~:~~7II777$$Z      \n",
      "                     ~ZMM~ \n",
      "\u001b[37m*********************************************\n",
      "\n",
      "Welcome to Snake BnB!\n",
      "Why are you here?\n",
      "\n",
      "[g] Book a cage for your snake\n",
      "[h] Offer extra cage space\n",
      "\n",
      "Are you a [g]uest or [h]ost? g\n",
      " ****************** Welcome guest **************** \n",
      "\n",
      "What action would you like to take:\n",
      "[C]reate an account\n",
      "[L]ogin to your account\n",
      "[B]ook a cage\n",
      "[A]dd a snake\n",
      "View [y]our snakes\n",
      "[V]iew your bookings\n",
      "[M]ain menu\n",
      "e[X]it app\n",
      "[?] Help (this info)\n",
      "\n",
      "jeff> y\n",
      " ****************** Your snakes **************** \n",
      "You have 0 snakes.\n",
      "\n",
      "jeff> l\n",
      " ****************** LOGIN **************** \n",
      "What is your email? josh@gmail.com\n",
      "\u001b[91mCould not find account with email josh@gmail.com.\u001b[37m\n",
      "\n",
      "jeff> joshagar@gmail.com\n",
      "Sorry we didn't understand that command.\n",
      "\n",
      "jeff> l\n",
      " ****************** LOGIN **************** \n",
      "What is your email? joshagar@gmail.com\n",
      "\u001b[92mLogged in successfully.\u001b[37m\n",
      "\n",
      "Josh> A\n",
      " ****************** Add a snake **************** \n",
      "What is your snake's name? Nala\n",
      "How long is your snake (in meters)? 30\n",
      "Species? dog\n",
      "Is your snake venomous [y]es, [n]o? n\n",
      "\u001b[92mCreated Nala with id 5db64fc6cd8395ab3943b5e7\u001b[37m\n",
      "\n",
      "Josh> exit()\n",
      "\n",
      "bye\n"
     ]
    }
   ],
   "source": [
    "%run -i \"./mongo_test/src/snake_bnb/src/program.py\""
   ]
  },
  {
   "cell_type": "markdown",
   "metadata": {
    "slideshow": {
     "slide_type": "slide"
    }
   },
   "source": [
    "# Booking a Cage"
   ]
  },
  {
   "cell_type": "code",
   "execution_count": 108,
   "metadata": {
    "slideshow": {
     "slide_type": "fragment"
    }
   },
   "outputs": [
    {
     "name": "stdout",
     "output_type": "stream",
     "text": [
      "Overwriting ./mongo_test/src/snake_bnb/src/program_guests.py\n"
     ]
    }
   ],
   "source": [
    "%%writefile ./mongo_test/src/snake_bnb/src/program_guests.py\n",
    "# %load ./mongodb_files/src/snake_bnb/src/program_guests.py\n",
    "import datetime\n",
    "from dateutil import parser\n",
    "\n",
    "from infrastructure.switchlang import switch\n",
    "import program_hosts as hosts\n",
    "import services.data_service as svc\n",
    "from program_hosts import success_msg, error_msg\n",
    "import infrastructure.state as state\n",
    "\n",
    "# this just prints out the option\n",
    "def run():\n",
    "    print(' ****************** Welcome guest **************** ')\n",
    "    print()\n",
    "\n",
    "    show_commands()\n",
    "\n",
    "    while True:\n",
    "        action = hosts.get_action()\n",
    "\n",
    "        with switch(action) as s:\n",
    "            s.case('c', hosts.create_account)\n",
    "            s.case('l', hosts.log_into_account)\n",
    "\n",
    "            s.case('a', add_a_snake)\n",
    "            s.case('y', view_your_snakes)\n",
    "            s.case('b', book_a_cage)\n",
    "            s.case('v', view_bookings)\n",
    "            s.case('m', lambda: 'change_mode')\n",
    "\n",
    "            s.case('?', show_commands)\n",
    "            s.case('', lambda: None)\n",
    "            s.case(['x', 'bye', 'exit', 'exit()'], hosts.exit_app)\n",
    "\n",
    "            s.default(hosts.unknown_command)\n",
    "\n",
    "        state.reload_account()\n",
    "\n",
    "        if action:\n",
    "            print()\n",
    "\n",
    "        if s.result == 'change_mode':\n",
    "            return\n",
    "\n",
    "\n",
    "def show_commands():\n",
    "    print('What action would you like to take:')\n",
    "    print('[C]reate an account')\n",
    "    print('[L]ogin to your account')\n",
    "    print('[B]ook a cage')\n",
    "    print('[A]dd a snake')\n",
    "    print('View [y]our snakes')\n",
    "    print('[V]iew your bookings')\n",
    "    print('[M]ain menu')\n",
    "    print('e[X]it app')\n",
    "    print('[?] Help (this info)')\n",
    "    print()\n",
    "\n",
    "# this is just like creating the cage\n",
    "def add_a_snake():\n",
    "    print(' ****************** Add a snake **************** ')\n",
    "    if not state.active_account:\n",
    "        error_msg(\"You must log in first to add a snake\")\n",
    "        return\n",
    "\n",
    "    name = input(\"What is your snake's name? \")\n",
    "    if not name:\n",
    "        error_msg('cancelled')\n",
    "        return\n",
    "\n",
    "    length = float(input('How long is your snake (in meters)? '))\n",
    "    species = input(\"Species? \")\n",
    "    is_venomous = input(\"Is your snake venomous [y]es, [n]o? \").lower().startswith('y')\n",
    "\n",
    "    snake = svc.add_snake(state.active_account, name, length, species, is_venomous)\n",
    "    state.reload_account()\n",
    "    success_msg('Created {} with id {}'.format(snake.name, snake.id))\n",
    "\n",
    "\n",
    "def view_your_snakes():\n",
    "    print(' ****************** Your snakes **************** ')\n",
    "    if not state.active_account:\n",
    "        error_msg(\"You must log in first to view your snakes\")\n",
    "        return\n",
    "\n",
    "    snakes = svc.get_snakes_for_user(state.active_account.id)\n",
    "    print(\"You have {} snakes.\".format(len(snakes)))\n",
    "    for s in snakes:\n",
    "        print(\" * {} is a {} that is {}m long and is {}venomous.\".format(\n",
    "            s.name,\n",
    "            s.species,\n",
    "            s.length,\n",
    "            '' if s.is_venomous else 'not '\n",
    "        ))\n",
    "        \n",
    "        \n",
    "###\n",
    "\n",
    "def book_a_cage():\n",
    "    print(' ****************** Book a cage **************** ')\n",
    "    \n",
    "    # Checks if you are logged in\n",
    "    if not state.active_account:\n",
    "        error_msg(\"You must log in first to book a cage\")\n",
    "        return\n",
    "\n",
    "    # makes sure that you have a snake\n",
    "    snakes = svc.get_snakes_for_user(state.active_account.id)\n",
    "    if not snakes:\n",
    "        error_msg('You must first [a]dd a snake before you can book a cage.')\n",
    "        return\n",
    "\n",
    "    # when do you want to book\n",
    "    # error handeling\n",
    "    print(\"Let's start by finding available cages.\")\n",
    "    start_text = input(\"Check-in date [yyyy-mm-dd]: \")\n",
    "    if not start_text:\n",
    "        error_msg('cancelled')\n",
    "        return\n",
    "\n",
    "    # finds available cages\n",
    "    checkin = parser.parse(\n",
    "        start_text\n",
    "    )\n",
    "    checkout = parser.parse(\n",
    "        input(\"Check-out date [yyyy-mm-dd]: \")\n",
    "    )\n",
    "    if checkin >= checkout:\n",
    "        error_msg('Check in must be before check out')\n",
    "        return\n",
    "\n",
    "    # prints your snake\n",
    "    print()\n",
    "    for idx, s in enumerate(snakes):\n",
    "        print('{}. {} (length: {}, venomous: {})'.format(\n",
    "            idx + 1,\n",
    "            s.name,\n",
    "            s.length,\n",
    "            'yes' if s.is_venomous else 'no'\n",
    "        ))\n",
    "\n",
    "    snake = snakes[int(input('Which snake do you want to book (number)')) - 1]\n",
    "\n",
    "    cages = svc.get_available_cages(checkin, checkout, snake) #need to write this is data services\n",
    "\n",
    "    # prints a bunch of information\n",
    "    print(\"There are {} cages available in that time.\".format(len(cages)))\n",
    "    for idx, c in enumerate(cages):\n",
    "        print(\" {}. {} with {}m carpeted: {}, has toys: {}.\".format(\n",
    "            idx + 1,\n",
    "            c.name,\n",
    "            c.square_meters,\n",
    "            'yes' if c.is_carpeted else 'no',\n",
    "            'yes' if c.has_toys else 'no'))\n",
    "\n",
    "    if not cages:\n",
    "        error_msg(\"Sorry, no cages are available for that date.\")\n",
    "        return\n",
    "\n",
    "    cage = cages[int(input('Which cage do you want to book (number)')) - 1]\n",
    "    svc.book_cage(state.active_account, snake, cage, checkin, checkout) # need to write this as well\n",
    "\n",
    "    success_msg('Successfully booked {} for {} at ${}/night.'.format(cage.name, snake.name, cage.price))\n",
    "\n",
    "def view_bookings():\n",
    "    print(' ****************** Your bookings **************** ')\n",
    "    if not state.active_account:\n",
    "        error_msg(\"You must log in first to register a cage\")\n",
    "        return\n",
    "\n",
    "    snakes = {s.id: s for s in svc.get_snakes_for_user(state.active_account.id)}\n",
    "    bookings = svc.get_bookings_for_user(state.active_account.email)\n",
    "\n",
    "    print(\"You have {} bookings.\".format(len(bookings)))\n",
    "    for b in bookings:\n",
    "        # noinspection PyUnresolvedReferences\n",
    "        print(' * Snake: {} is booked at {} from {} for {} days.'.format(\n",
    "            snakes.get(b.guest_snake_id).name,\n",
    "            b.cage.name,\n",
    "            datetime.date(b.check_in_date.year, b.check_in_date.month, b.check_in_date.day),\n",
    "            (b.check_out_date - b.check_in_date).days\n",
    "        ))"
   ]
  },
  {
   "cell_type": "code",
   "execution_count": 109,
   "metadata": {
    "slideshow": {
     "slide_type": "subslide"
    }
   },
   "outputs": [
    {
     "name": "stdout",
     "output_type": "stream",
     "text": [
      "Overwriting ./mongo_test/src/snake_bnb/src/services/data_service.py\n"
     ]
    }
   ],
   "source": [
    "%%writefile ./mongo_test/src/snake_bnb/src/services/data_service.py\n",
    "# %load ./mongodb_files/src/snake_bnb/src/services/data_service.py\n",
    "from typing import List, Optional\n",
    "\n",
    "import datetime\n",
    "\n",
    "import bson\n",
    "\n",
    "from data.bookings import Booking\n",
    "from data.cages import Cage\n",
    "from data.owners import Owner\n",
    "from data.snakes import Snake\n",
    "\n",
    "\n",
    "def create_account(name: str, email: str) -> Owner:\n",
    "    # name: str restricts to a class\n",
    "    # -> means return an Owner\n",
    "    # this is a regular class\n",
    "    owner = Owner()\n",
    "    owner.name = name\n",
    "    owner.email = email\n",
    "\n",
    "    # puts this in the database\n",
    "    owner.save()\n",
    "\n",
    "    # returns to the database\n",
    "    return owner\n",
    "\n",
    "# This is a function that finds acounts by email \n",
    "def find_account_by_email(email: str) -> Owner:\n",
    "    owner = Owner.objects(email=email).first()\n",
    "    return owner\n",
    "\n",
    "# create the cage function\n",
    "def register_cage(active_account: Owner,\n",
    "                  name, allow_dangerous, has_toys,\n",
    "                  carpeted, meters, price) -> Cage:\n",
    "    cage = Cage()\n",
    "\n",
    "    cage.name = name\n",
    "    cage.square_meters = meters\n",
    "    cage.is_carpeted = carpeted\n",
    "    cage.has_toys = has_toys\n",
    "    cage.allow_dangerous_snakes = allow_dangerous\n",
    "    cage.price = price\n",
    "\n",
    "    cage.save() #stores it in the database\n",
    "\n",
    "    account = find_account_by_email(active_account.email) #gets the latest account\n",
    "    account.cage_ids.append(cage.id) # because saved, you can call to get cage id\n",
    "    account.save() # pushes changes to database\n",
    "\n",
    "    return cage\n",
    "\n",
    "\n",
    "def add_available_date(cage: Cage,\n",
    "                       start_date: datetime.datetime, days: int) -> Cage:\n",
    "    booking = Booking()\n",
    "    booking.check_in_date = start_date\n",
    "    booking.check_out_date = start_date + datetime.timedelta(days=days)\n",
    "\n",
    "    cage = Cage.objects(id=cage.id).first()\n",
    "    cage.bookings.append(booking) # bookings live inside the cages \n",
    "    cage.save()\n",
    "\n",
    "    return cage\n",
    "\n",
    "###\n",
    "\n",
    "def get_available_cages(checkin: datetime.datetime,\n",
    "                        checkout: datetime.datetime, snake: Snake) -> List[Cage]:\n",
    "    \n",
    "    # finds the minimum cage size\n",
    "    min_size = snake.length / 4\n",
    "\n",
    "    # list of filters which searches the database\n",
    "    query = Cage.objects() \\ # along mutiple lines and functions\n",
    "        .filter(square_meters__gte=min_size) \\ #gte >=\n",
    "        .filter(bookings__check_in_date__lte=checkin) \\ # in date has to after available\n",
    "        .filter(bookings__check_out_date__gte=checkout)\n",
    "\n",
    "    # additional criteria if venomous allowed\n",
    "    if snake.is_venomous:\n",
    "        query = query.filter(allow_dangerous_snakes=True)\n",
    "        \n",
    "\n",
    "    # price and squared meters is the order of results\n",
    "    cages = query.order_by('price', '-square_meters')\n",
    "\n",
    "    # cages we care about\n",
    "    final_cages = []\n",
    "    for c in cages:\n",
    "        for b in c.bookings:\n",
    "            # need to check that it is available and not already booked\n",
    "            if b.check_in_date <= checkin and b.check_out_date >= checkout and b.guest_snake_id is None:\n",
    "                final_cages.append(c)\n",
    "\n",
    "    return final_cages # returns the final cages\n",
    "\n",
    "def book_cage(account, snake, cage, checkin, checkout):\n",
    "    booking: Optional[Booking] = None\n",
    "\n",
    "    # checks the information\n",
    "    for b in cage.bookings:\n",
    "        if b.check_in_date <= checkin and b.check_out_date >= checkout and b.guest_snake_id is None:\n",
    "            booking = b\n",
    "            break\n",
    "    \n",
    "    # saves all of the information\n",
    "    booking.guest_owner_id = account.id\n",
    "    booking.guest_snake_id = snake.id\n",
    "    booking.check_in_date = checkin\n",
    "    booking.check_out_date = checkout\n",
    "    booking.booked_date = datetime.datetime.now()\n",
    "\n",
    "    cage.save()"
   ]
  },
  {
   "cell_type": "code",
   "execution_count": 111,
   "metadata": {
    "slideshow": {
     "slide_type": "subslide"
    }
   },
   "outputs": [
    {
     "name": "stdout",
     "output_type": "stream",
     "text": [
      "\u001b[37m****************  SNAKE BnB  ****************\n",
      "\u001b[32m\n",
      "             ~8I?? OM               \n",
      "            M..I?Z 7O?M             \n",
      "            ?   ?8   ?I8            \n",
      "           MOM???I?ZO??IZ           \n",
      "          M:??O??????MII            \n",
      "          OIIII$NI7??I$             \n",
      "               IIID?IIZ             \n",
      "  +$       ,IM ,~7??I7$             \n",
      "I?        MM   ?:::?7$              \n",
      "??              7,::?778+=~+??8       \n",
      "??Z             ?,:,:I7$I??????+~~+    \n",
      "??D          N==7,::,I77??????????=~$  \n",
      "~???        I~~I?,::,77$Z?????????????  \n",
      "???+~M   $+~+???? :::II7$II777II??????N \n",
      "OI??????????I$$M=,:+7??I$7I??????????? \n",
      " N$$$ZDI      =++:$???????????II78  \n",
      "               =~~:~~7II777$$Z      \n",
      "                     ~ZMM~ \n",
      "\u001b[37m*********************************************\n",
      "\n",
      "Welcome to Snake BnB!\n",
      "Why are you here?\n",
      "\n",
      "[g] Book a cage for your snake\n",
      "[h] Offer extra cage space\n",
      "\n",
      "Are you a [g]uest or [h]ost? h\n",
      " ****************** Welcome host **************** \n",
      "\n",
      "What action would you like to take:\n",
      "[C]reate an [a]ccount\n",
      "[L]ogin to your account\n",
      "List [y]our cages\n",
      "[R]egister a cage\n",
      "[U]pdate cage availability\n",
      "[V]iew your bookings\n",
      "Change [M]ode (guest or host)\n",
      "e[X]it app\n",
      "[?] Help (this info)\n",
      "\n",
      "jeff> y\n",
      " ******************     Your cages     **************** \n",
      "You have 2 cages.\n",
      " 1. expensive is 1.0 meters.\n",
      " 2. big is 4999.0 meters.\n",
      "      * Booking: 2018-01-01 00:00:00, 2 days, booked? YES\n",
      "\n"
     ]
    }
   ],
   "source": [
    "%run -i \"./mongo_test/src/snake_bnb/src/program.py\""
   ]
  },
  {
   "cell_type": "markdown",
   "metadata": {
    "slideshow": {
     "slide_type": "slide"
    }
   },
   "source": [
    "# Add a way to view your bookings"
   ]
  },
  {
   "cell_type": "code",
   "execution_count": 112,
   "metadata": {
    "slideshow": {
     "slide_type": "fragment"
    }
   },
   "outputs": [
    {
     "name": "stdout",
     "output_type": "stream",
     "text": [
      "Overwriting ./mongo_test/src/snake_bnb/src/program_guests.py\n"
     ]
    }
   ],
   "source": [
    "%%writefile ./mongo_test/src/snake_bnb/src/program_guests.py\n",
    "# %load ./mongodb_files/src/snake_bnb/src/program_guests.py\n",
    "import datetime\n",
    "from dateutil import parser\n",
    "\n",
    "from infrastructure.switchlang import switch\n",
    "import program_hosts as hosts\n",
    "import services.data_service as svc\n",
    "from program_hosts import success_msg, error_msg\n",
    "import infrastructure.state as state\n",
    "\n",
    "# this just prints out the option\n",
    "def run():\n",
    "    print(' ****************** Welcome guest **************** ')\n",
    "    print()\n",
    "\n",
    "    show_commands()\n",
    "\n",
    "    while True:\n",
    "        action = hosts.get_action()\n",
    "\n",
    "        with switch(action) as s:\n",
    "            s.case('c', hosts.create_account)\n",
    "            s.case('l', hosts.log_into_account)\n",
    "\n",
    "            s.case('a', add_a_snake)\n",
    "            s.case('y', view_your_snakes)\n",
    "            s.case('b', book_a_cage)\n",
    "            s.case('v', view_bookings)\n",
    "            s.case('m', lambda: 'change_mode')\n",
    "\n",
    "            s.case('?', show_commands)\n",
    "            s.case('', lambda: None)\n",
    "            s.case(['x', 'bye', 'exit', 'exit()'], hosts.exit_app)\n",
    "\n",
    "            s.default(hosts.unknown_command)\n",
    "\n",
    "        state.reload_account()\n",
    "\n",
    "        if action:\n",
    "            print()\n",
    "\n",
    "        if s.result == 'change_mode':\n",
    "            return\n",
    "\n",
    "\n",
    "def show_commands():\n",
    "    print('What action would you like to take:')\n",
    "    print('[C]reate an account')\n",
    "    print('[L]ogin to your account')\n",
    "    print('[B]ook a cage')\n",
    "    print('[A]dd a snake')\n",
    "    print('View [y]our snakes')\n",
    "    print('[V]iew your bookings')\n",
    "    print('[M]ain menu')\n",
    "    print('e[X]it app')\n",
    "    print('[?] Help (this info)')\n",
    "    print()\n",
    "\n",
    "# this is just like creating the cage\n",
    "def add_a_snake():\n",
    "    print(' ****************** Add a snake **************** ')\n",
    "    if not state.active_account:\n",
    "        error_msg(\"You must log in first to add a snake\")\n",
    "        return\n",
    "\n",
    "    name = input(\"What is your snake's name? \")\n",
    "    if not name:\n",
    "        error_msg('cancelled')\n",
    "        return\n",
    "\n",
    "    length = float(input('How long is your snake (in meters)? '))\n",
    "    species = input(\"Species? \")\n",
    "    is_venomous = input(\"Is your snake venomous [y]es, [n]o? \").lower().startswith('y')\n",
    "\n",
    "    snake = svc.add_snake(state.active_account, name, length, species, is_venomous)\n",
    "    state.reload_account()\n",
    "    success_msg('Created {} with id {}'.format(snake.name, snake.id))\n",
    "\n",
    "\n",
    "def view_your_snakes():\n",
    "    print(' ****************** Your snakes **************** ')\n",
    "    if not state.active_account:\n",
    "        error_msg(\"You must log in first to view your snakes\")\n",
    "        return\n",
    "\n",
    "    snakes = svc.get_snakes_for_user(state.active_account.id)\n",
    "    print(\"You have {} snakes.\".format(len(snakes)))\n",
    "    for s in snakes:\n",
    "        print(\" * {} is a {} that is {}m long and is {}venomous.\".format(\n",
    "            s.name,\n",
    "            s.species,\n",
    "            s.length,\n",
    "            '' if s.is_venomous else 'not '\n",
    "        ))\n",
    "        \n",
    "\n",
    "def book_a_cage():\n",
    "    print(' ****************** Book a cage **************** ')\n",
    "    \n",
    "    # Checks if you are logged in\n",
    "    if not state.active_account:\n",
    "        error_msg(\"You must log in first to book a cage\")\n",
    "        return\n",
    "\n",
    "    # makes sure that you have a snake\n",
    "    snakes = svc.get_snakes_for_user(state.active_account.id)\n",
    "    if not snakes:\n",
    "        error_msg('You must first [a]dd a snake before you can book a cage.')\n",
    "        return\n",
    "\n",
    "    # when do you want to book\n",
    "    # error handeling\n",
    "    print(\"Let's start by finding available cages.\")\n",
    "    start_text = input(\"Check-in date [yyyy-mm-dd]: \")\n",
    "    if not start_text:\n",
    "        error_msg('cancelled')\n",
    "        return\n",
    "\n",
    "    # finds available cages\n",
    "    checkin = parser.parse(\n",
    "        start_text\n",
    "    )\n",
    "    checkout = parser.parse(\n",
    "        input(\"Check-out date [yyyy-mm-dd]: \")\n",
    "    )\n",
    "    if checkin >= checkout:\n",
    "        error_msg('Check in must be before check out')\n",
    "        return\n",
    "\n",
    "    # prints your snake\n",
    "    print()\n",
    "    for idx, s in enumerate(snakes):\n",
    "        print('{}. {} (length: {}, venomous: {})'.format(\n",
    "            idx + 1,\n",
    "            s.name,\n",
    "            s.length,\n",
    "            'yes' if s.is_venomous else 'no'\n",
    "        ))\n",
    "\n",
    "    snake = snakes[int(input('Which snake do you want to book (number)')) - 1]\n",
    "\n",
    "    cages = svc.get_available_cages(checkin, checkout, snake) #need to write this is data services\n",
    "\n",
    "    # prints a bunch of information\n",
    "    print(\"There are {} cages available in that time.\".format(len(cages)))\n",
    "    for idx, c in enumerate(cages):\n",
    "        print(\" {}. {} with {}m carpeted: {}, has toys: {}.\".format(\n",
    "            idx + 1,\n",
    "            c.name,\n",
    "            c.square_meters,\n",
    "            'yes' if c.is_carpeted else 'no',\n",
    "            'yes' if c.has_toys else 'no'))\n",
    "\n",
    "    if not cages:\n",
    "        error_msg(\"Sorry, no cages are available for that date.\")\n",
    "        return\n",
    "\n",
    "    cage = cages[int(input('Which cage do you want to book (number)')) - 1]\n",
    "    svc.book_cage(state.active_account, snake, cage, checkin, checkout) # need to write this as well\n",
    "\n",
    "    success_msg('Successfully booked {} for {} at ${}/night.'.format(cage.name, snake.name, cage.price))\n",
    "\n",
    "def view_bookings():\n",
    "    print(' ****************** Your bookings **************** ')\n",
    "    if not state.active_account:\n",
    "        error_msg(\"You must log in first to register a cage\")\n",
    "        return\n",
    "\n",
    "    snakes = {s.id: s for s in svc.get_snakes_for_user(state.active_account.id)}\n",
    "    bookings = svc.get_bookings_for_user(state.active_account.email) # need to write this\n",
    "\n",
    "    print(\"You have {} bookings.\".format(len(bookings)))\n",
    "    for b in bookings:\n",
    "        # noinspection PyUnresolvedReferences\n",
    "        print(' * Snake: {} is booked at {} from {} for {} days.'.format(\n",
    "            snakes.get(b.guest_snake_id).name,\n",
    "            b.cage.name,\n",
    "            datetime.date(b.check_in_date.year, b.check_in_date.month, b.check_in_date.day),\n",
    "            (b.check_out_date - b.check_in_date).days\n",
    "        ))\n"
   ]
  },
  {
   "cell_type": "code",
   "execution_count": 113,
   "metadata": {
    "slideshow": {
     "slide_type": "subslide"
    }
   },
   "outputs": [
    {
     "name": "stdout",
     "output_type": "stream",
     "text": [
      "Overwriting ./mongo_test/src/snake_bnb/src/services/data_service.py\n"
     ]
    }
   ],
   "source": [
    "%%writefile ./mongo_test/src/snake_bnb/src/services/data_service.py\n",
    "# %load ./mongodb_files/src/snake_bnb/src/services/data_service.py\n",
    "from typing import List, Optional\n",
    "\n",
    "import datetime\n",
    "\n",
    "import bson\n",
    "\n",
    "from data.bookings import Booking\n",
    "from data.cages import Cage\n",
    "from data.owners import Owner\n",
    "from data.snakes import Snake\n",
    "\n",
    "\n",
    "def create_account(name: str, email: str) -> Owner:\n",
    "    # name: str restricts to a class\n",
    "    # -> means return an Owner\n",
    "    # this is a regular class\n",
    "    owner = Owner()\n",
    "    owner.name = name\n",
    "    owner.email = email\n",
    "\n",
    "    # puts this in the database\n",
    "    owner.save()\n",
    "\n",
    "    # returns to the database\n",
    "    return owner\n",
    "\n",
    "# This is a function that finds acounts by email \n",
    "def find_account_by_email(email: str) -> Owner:\n",
    "    owner = Owner.objects(email=email).first()\n",
    "    return owner\n",
    "\n",
    "# create the cage function\n",
    "def register_cage(active_account: Owner,\n",
    "                  name, allow_dangerous, has_toys,\n",
    "                  carpeted, meters, price) -> Cage:\n",
    "    cage = Cage()\n",
    "\n",
    "    cage.name = name\n",
    "    cage.square_meters = meters\n",
    "    cage.is_carpeted = carpeted\n",
    "    cage.has_toys = has_toys\n",
    "    cage.allow_dangerous_snakes = allow_dangerous\n",
    "    cage.price = price\n",
    "\n",
    "    cage.save() #stores it in the database\n",
    "\n",
    "    account = find_account_by_email(active_account.email) #gets the latest account\n",
    "    account.cage_ids.append(cage.id) # because saved, you can call to get cage id\n",
    "    account.save() # pushes changes to database\n",
    "\n",
    "    return cage\n",
    "\n",
    "\n",
    "def add_available_date(cage: Cage,\n",
    "                       start_date: datetime.datetime, days: int) -> Cage:\n",
    "    booking = Booking()\n",
    "    booking.check_in_date = start_date\n",
    "    booking.check_out_date = start_date + datetime.timedelta(days=days)\n",
    "\n",
    "    cage = Cage.objects(id=cage.id).first()\n",
    "    cage.bookings.append(booking) # bookings live inside the cages \n",
    "    cage.save()\n",
    "\n",
    "    return cage\n",
    "\n",
    "###\n",
    "\n",
    "def get_available_cages(checkin: datetime.datetime,\n",
    "                        checkout: datetime.datetime, snake: Snake) -> List[Cage]:\n",
    "    \n",
    "    # finds the minimum cage size\n",
    "    min_size = snake.length / 4\n",
    "\n",
    "    # list of filters which searches the database\n",
    "    query = Cage.objects() \\ # along mutiple lines and functions\n",
    "        .filter(square_meters__gte=min_size) \\ #gte >=\n",
    "        .filter(bookings__check_in_date__lte=checkin) \\ # in date has to after available\n",
    "        .filter(bookings__check_out_date__gte=checkout)\n",
    "\n",
    "    # additional criteria if venomous allowed\n",
    "    if snake.is_venomous:\n",
    "        query = query.filter(allow_dangerous_snakes=True)\n",
    "        \n",
    "\n",
    "    # price and squared meters is the order of results\n",
    "    cages = query.order_by('price', '-square_meters')\n",
    "\n",
    "    # cages we care about\n",
    "    final_cages = []\n",
    "    for c in cages:\n",
    "        for b in c.bookings:\n",
    "            # need to check that it is available and not already booked\n",
    "            if b.check_in_date <= checkin and b.check_out_date >= checkout and b.guest_snake_id is None:\n",
    "                final_cages.append(c)\n",
    "\n",
    "    return final_cages # returns the final cages\n",
    "\n",
    "def book_cage(account, snake, cage, checkin, checkout):\n",
    "    booking: Optional[Booking] = None\n",
    "\n",
    "    # checks the information\n",
    "    for b in cage.bookings:\n",
    "        if b.check_in_date <= checkin and b.check_out_date >= checkout and b.guest_snake_id is None:\n",
    "            booking = b\n",
    "            break\n",
    "    \n",
    "    # saves all of the information\n",
    "    booking.guest_owner_id = account.id\n",
    "    booking.guest_snake_id = snake.id\n",
    "    booking.check_in_date = checkin\n",
    "    booking.check_out_date = checkout\n",
    "    booking.booked_date = datetime.datetime.now()\n",
    "\n",
    "    cage.save()\n",
    "    \n",
    "###\n",
    "def get_bookings_for_user(email: str) -> List[Booking]:\n",
    "    account = find_account_by_email(email) # gets the account\n",
    "\n",
    "    booked_cages = Cage.objects() \\\n",
    "        .filter(bookings__guest_owner_id=account.id) \\ # finds the guest that matches the owner\n",
    "        .only('bookings', 'name') # only take the bookings and the name \n",
    "\n",
    "    # transfer function that maps cage to booking\n",
    "    # this adds a cage associated to the booking\n",
    "    def map_cage_to_booking(cage, booking):\n",
    "        booking.cage = cage\n",
    "        return booking\n",
    "\n",
    "    bookings = [\n",
    "        map_cage_to_booking(cage, booking)\n",
    "        for cage in booked_cages # tests that it is in booked\n",
    "        for booking in cage.bookings #strips out the unrelated bookings\n",
    "        if booking.guest_owner_id == account.id\n",
    "    ]\n",
    "\n",
    "    return bookings"
   ]
  },
  {
   "cell_type": "code",
   "execution_count": 114,
   "metadata": {
    "slideshow": {
     "slide_type": "subslide"
    }
   },
   "outputs": [
    {
     "name": "stdout",
     "output_type": "stream",
     "text": [
      "\u001b[37m****************  SNAKE BnB  ****************\n",
      "\u001b[32m\n",
      "             ~8I?? OM               \n",
      "            M..I?Z 7O?M             \n",
      "            ?   ?8   ?I8            \n",
      "           MOM???I?ZO??IZ           \n",
      "          M:??O??????MII            \n",
      "          OIIII$NI7??I$             \n",
      "               IIID?IIZ             \n",
      "  +$       ,IM ,~7??I7$             \n",
      "I?        MM   ?:::?7$              \n",
      "??              7,::?778+=~+??8       \n",
      "??Z             ?,:,:I7$I??????+~~+    \n",
      "??D          N==7,::,I77??????????=~$  \n",
      "~???        I~~I?,::,77$Z?????????????  \n",
      "???+~M   $+~+???? :::II7$II777II??????N \n",
      "OI??????????I$$M=,:+7??I$7I??????????? \n",
      " N$$$ZDI      =++:$???????????II78  \n",
      "               =~~:~~7II777$$Z      \n",
      "                     ~ZMM~ \n",
      "\u001b[37m*********************************************\n",
      "\n",
      "Welcome to Snake BnB!\n",
      "Why are you here?\n",
      "\n",
      "[g] Book a cage for your snake\n",
      "[h] Offer extra cage space\n",
      "\n",
      "Are you a [g]uest or [h]ost? \n",
      " ****************** Welcome guest **************** \n",
      "\n",
      "What action would you like to take:\n",
      "[C]reate an account\n",
      "[L]ogin to your account\n",
      "[B]ook a cage\n",
      "[A]dd a snake\n",
      "View [y]our snakes\n",
      "[V]iew your bookings\n",
      "[M]ain menu\n",
      "e[X]it app\n",
      "[?] Help (this info)\n",
      "\n",
      "jeff> l\n",
      " ****************** LOGIN **************** \n",
      "What is your email? jeff@gmail.com\n",
      "\u001b[92mLogged in successfully.\u001b[37m\n",
      "\n",
      "jeff> v\n",
      " ****************** Your bookings **************** \n",
      "You have 0 bookings.\n",
      "\n",
      "jeff> l\n",
      " ****************** LOGIN **************** \n",
      "What is your email? joshagar@gmail.com\n",
      "\u001b[92mLogged in successfully.\u001b[37m\n",
      "\n",
      "Josh> v\n",
      " ****************** Your bookings **************** \n",
      "You have 1 bookings.\n",
      " * Snake: Nala is booked at big from 2018-01-01 for 2 days.\n",
      "\n"
     ]
    }
   ],
   "source": [
    "%run -i \"./mongo_test/src/snake_bnb/src/program.py\""
   ]
  },
  {
   "cell_type": "markdown",
   "metadata": {
    "slideshow": {
     "slide_type": "slide"
    }
   },
   "source": [
    "# Add View booking to host"
   ]
  },
  {
   "cell_type": "code",
   "execution_count": 115,
   "metadata": {
    "slideshow": {
     "slide_type": "fragment"
    }
   },
   "outputs": [
    {
     "name": "stdout",
     "output_type": "stream",
     "text": [
      "Overwriting ./mongo_test/src/snake_bnb/src/program_hosts.py\n"
     ]
    }
   ],
   "source": [
    "%%writefile './mongo_test/src/snake_bnb/src/program_hosts.py'\n",
    "# %load ./mongodb_files/src/snake_bnb/src/program_hosts.py\n",
    "import datetime\n",
    "from colorama import Fore\n",
    "from dateutil import parser\n",
    "\n",
    "from infrastructure.switchlang import switch\n",
    "import infrastructure.state as state\n",
    "import services.data_service as svc\n",
    "\n",
    "def create_account():\n",
    "    print(' ****************** REGISTER **************** ')\n",
    "\n",
    "    name = input('What is your name? ')\n",
    "    email = input('What is your email? ').strip().lower()\n",
    "    #.lower() - makes everything lower case\n",
    "    #. strip() - removes spaces\n",
    "\n",
    "    old_account = svc.find_account_by_email(email)\n",
    "    if old_account:\n",
    "        error_msg(f\"ERROR: Account with email {email} already exists.\")\n",
    "        return\n",
    "    \n",
    "    state.active_account = svc.create_account(name, email)\n",
    "    success_msg(f\"Created new account with id {state.active_account.id}.\")\n",
    "\n",
    "def log_into_account():\n",
    "    print(' ****************** LOGIN **************** ')\n",
    "\n",
    "    email = input('What is your email? ').strip().lower()\n",
    "    account = svc.find_account_by_email(email)\n",
    "\n",
    "    if not account:\n",
    "        error_msg(f'Could not find account with email {email}.')\n",
    "        return\n",
    "\n",
    "    state.active_account = account\n",
    "    success_msg('Logged in successfully.')\n",
    "    \n",
    "def register_cage():\n",
    "    print(' ****************** REGISTER CAGE **************** ')\n",
    "\n",
    "    # Checks if there is an account\n",
    "    if not state.active_account:\n",
    "        error_msg('You must login first to register a cage.')\n",
    "        return\n",
    "    \n",
    "    # records how big the cage is\n",
    "    meters = input('How many square meters is the cage? ')\n",
    "    if not meters:\n",
    "        error_msg('Cancelled')\n",
    "        return\n",
    "\n",
    "    # a bunch of user questions\n",
    "    meters = float(meters)\n",
    "    carpeted = input(\"Is it carpeted [y, n]? \").lower().startswith('y')\n",
    "    has_toys = input(\"Have snake toys [y, n]? \").lower().startswith('y')\n",
    "    allow_dangerous = input(\"Can you host venomous snakes [y, n]? \").lower().startswith('y')\n",
    "    name = input(\"Give your cage a name: \")\n",
    "    price = float(input(\"How much are you charging?  \"))\n",
    "    \n",
    "    # registers the data\n",
    "    cage = svc.register_cage(\n",
    "        state.active_account, #account\n",
    "        name, #name\n",
    "        allow_dangerous, has_toys, carpeted, meters, price\n",
    "    )\n",
    "\n",
    "    state.reload_account() # updates the account in the memory\n",
    "    success_msg(f'Register new cage with id {cage.id}.')\n",
    "    \n",
    "def list_cages(suppress_header=False):\n",
    "    if not suppress_header:\n",
    "        print(' ******************     Your cages     **************** ')\n",
    "\n",
    "    if not state.active_account:\n",
    "        error_msg('You must login first to register a cage.')\n",
    "        return\n",
    "\n",
    "    cages = svc.find_cages_for_user(state.active_account)\n",
    "    print(f\"You have {len(cages)} cages.\")\n",
    "    for idx, c in enumerate(cages):\n",
    "        print(f' {idx + 1}. {c.name} is {c.square_meters} meters.')\n",
    "        for b in c.bookings:\n",
    "            print('      * Booking: {}, {} days, booked? {}'.format(\n",
    "                b.check_in_date,\n",
    "                (b.check_out_date - b.check_in_date).days,\n",
    "                'YES' if b.booked_date is not None else 'no'\n",
    "            ))\n",
    "        \n",
    "def update_availability():\n",
    "    print(' ****************** Add available date **************** ')\n",
    "\n",
    "    # need to have an account\n",
    "    if not state.active_account:\n",
    "        error_msg(\"You must log in first to register a cage\")\n",
    "        return\n",
    "\n",
    "    # prints out the cages\n",
    "    list_cages(suppress_header=True)\n",
    "\n",
    "    cage_number = input(\"Enter cage number: \")\n",
    "    if not cage_number.strip():\n",
    "        error_msg('Cancelled')\n",
    "        print()\n",
    "        return\n",
    "\n",
    "    cage_number = int(cage_number)\n",
    "\n",
    "    # get cages\n",
    "    cages = svc.find_cages_for_user(state.active_account)\n",
    "    selected_cage = cages[cage_number - 1]\n",
    "\n",
    "    success_msg(\"Selected cage {}\".format(selected_cage.name))\n",
    "\n",
    "    start_date = parser.parse(\n",
    "        input(\"Enter available date [yyyy-mm-dd]: \")\n",
    "    )\n",
    "    days = int(input(\"How many days is this block of time? \"))\n",
    "\n",
    "    # new data access method\n",
    "    svc.add_available_date(\n",
    "        selected_cage,\n",
    "        start_date,\n",
    "        days\n",
    "    )\n",
    "    state.reload_account()\n",
    "\n",
    "    success_msg(f'Date added to cage {selected_cage.name}.')\n",
    "\n",
    "### \n",
    "\n",
    "\n",
    "def view_bookings():\n",
    "    print(' ****************** Your bookings **************** ')\n",
    "\n",
    "    if not state.active_account:\n",
    "        error_msg(\"You must log in first to register a cage\")\n",
    "        return\n",
    "\n",
    "    cages = svc.find_cages_for_user(state.active_account)\n",
    "\n",
    "    bookings = [\n",
    "        (c, b)\n",
    "        for c in cages\n",
    "        for b in c.bookings\n",
    "        if b.booked_date is not None\n",
    "    ]\n",
    "\n",
    "    print(\"You have {} bookings.\".format(len(bookings)))\n",
    "    for c, b in bookings:\n",
    "        print(' * Cage: {}, booked date: {}, from {} for {} days.'.format(\n",
    "            c.name,\n",
    "            datetime.date(b.booked_date.year, b.booked_date.month, b.booked_date.day),\n",
    "            datetime.date(b.check_in_date.year, b.check_in_date.month, b.check_in_date.day),\n",
    "            b.duration_in_days\n",
    "        ))\n",
    "\n",
    "\n",
    "def exit_app():\n",
    "    print()\n",
    "    print('bye')\n",
    "    raise KeyboardInterrupt()\n",
    "\n",
    "\n",
    "def get_action():\n",
    "    text = '> '\n",
    "    if state.active_account:\n",
    "        text = f'{state.active_account.name}> '\n",
    "\n",
    "    action = input(Fore.YELLOW + text + Fore.WHITE)\n",
    "    return action.strip().lower()\n",
    "\n",
    "\n",
    "def unknown_command():\n",
    "    print(\"Sorry we didn't understand that command.\")\n",
    "\n",
    "\n",
    "def success_msg(text):\n",
    "    print(Fore.LIGHTGREEN_EX + text + Fore.WHITE)\n",
    "\n",
    "\n",
    "def error_msg(text):\n",
    "    print(Fore.LIGHTRED_EX + text + Fore.WHITE)"
   ]
  },
  {
   "cell_type": "code",
   "execution_count": 117,
   "metadata": {
    "slideshow": {
     "slide_type": "subslide"
    }
   },
   "outputs": [
    {
     "name": "stdout",
     "output_type": "stream",
     "text": [
      "Overwriting ./mongo_test/src/snake_bnb/src/data/bookings.py\n"
     ]
    }
   ],
   "source": [
    "%%writefile './mongo_test/src/snake_bnb/src/data/bookings.py'\n",
    "\n",
    "# %load ./mongodb_files/src/snake_bnb/src/data/bookings.py\n",
    "import mongoengine\n",
    "\n",
    "\n",
    "class Booking(mongoengine.EmbeddedDocument):\n",
    "    guest_owner_id = mongoengine.ObjectIdField()\n",
    "    guest_snake_id = mongoengine.ObjectIdField()\n",
    "\n",
    "    booked_date = mongoengine.DateTimeField()\n",
    "    check_in_date = mongoengine.DateTimeField(required=True)\n",
    "    check_out_date = mongoengine.DateTimeField(required=True)\n",
    "\n",
    "    review = mongoengine.StringField()\n",
    "    rating = mongoengine.IntField(default=0)\n",
    "\n",
    "###\n",
    "# this is so information does not get out of sync\n",
    "#this computes the numbe or days\n",
    "    @property\n",
    "    def duration_in_days(self):\n",
    "        dt = self.check_out_date - self.check_in_date\n",
    "        return dt.days\n"
   ]
  },
  {
   "cell_type": "code",
   "execution_count": 116,
   "metadata": {
    "slideshow": {
     "slide_type": "subslide"
    }
   },
   "outputs": [
    {
     "name": "stdout",
     "output_type": "stream",
     "text": [
      "\u001b[37m****************  SNAKE BnB  ****************\n",
      "\u001b[32m\n",
      "             ~8I?? OM               \n",
      "            M..I?Z 7O?M             \n",
      "            ?   ?8   ?I8            \n",
      "           MOM???I?ZO??IZ           \n",
      "          M:??O??????MII            \n",
      "          OIIII$NI7??I$             \n",
      "               IIID?IIZ             \n",
      "  +$       ,IM ,~7??I7$             \n",
      "I?        MM   ?:::?7$              \n",
      "??              7,::?778+=~+??8       \n",
      "??Z             ?,:,:I7$I??????+~~+    \n",
      "??D          N==7,::,I77??????????=~$  \n",
      "~???        I~~I?,::,77$Z?????????????  \n",
      "???+~M   $+~+???? :::II7$II777II??????N \n",
      "OI??????????I$$M=,:+7??I$7I??????????? \n",
      " N$$$ZDI      =++:$???????????II78  \n",
      "               =~~:~~7II777$$Z      \n",
      "                     ~ZMM~ \n",
      "\u001b[37m*********************************************\n",
      "\n",
      "Welcome to Snake BnB!\n",
      "Why are you here?\n",
      "\n",
      "[g] Book a cage for your snake\n",
      "[h] Offer extra cage space\n",
      "\n",
      "Are you a [g]uest or [h]ost? h\n",
      " ****************** Welcome host **************** \n",
      "\n",
      "What action would you like to take:\n",
      "[C]reate an [a]ccount\n",
      "[L]ogin to your account\n",
      "List [y]our cages\n",
      "[R]egister a cage\n",
      "[U]pdate cage availability\n",
      "[V]iew your bookings\n",
      "Change [M]ode (guest or host)\n",
      "e[X]it app\n",
      "[?] Help (this info)\n",
      "\n",
      "Josh> v\n",
      " ****************** Your bookings **************** \n",
      "You have 0 bookings.\n",
      "\n",
      "Josh> l\n",
      " ****************** LOGIN **************** \n",
      "What is your email? jeff@gmail.com\n",
      "\u001b[92mLogged in successfully.\u001b[37m\n",
      "\n",
      "jeff> v\n",
      " ****************** Your bookings **************** \n",
      "You have 1 bookings.\n",
      " * Cage: big, booked date: 2019-10-27, from 2018-01-01 for 2 days.\n",
      "\n",
      "jeff> x\n",
      "\n",
      "bye\n"
     ]
    }
   ],
   "source": [
    "%run -i \"./mongo_test/src/snake_bnb/src/program.py\""
   ]
  },
  {
   "cell_type": "code",
   "execution_count": 118,
   "metadata": {},
   "outputs": [
    {
     "ename": "ModuleNotFoundError",
     "evalue": "No module named 'my_collection'",
     "output_type": "error",
     "traceback": [
      "\u001b[0;31m---------------------------------------------------------------------------\u001b[0m",
      "\u001b[0;31mModuleNotFoundError\u001b[0m                       Traceback (most recent call last)",
      "\u001b[0;32m/Volumes/GoogleDrive/My Drive/Classes/MAT 497/Fall 2019/Fall-2019-MAT-397-494-/Untitled Folder/mongo_test/src/snake_bnb/src/program.py\u001b[0m in \u001b[0;36m<module>\u001b[0;34m\u001b[0m\n\u001b[0;32m----> 1\u001b[0;31m \u001b[0;32mimport\u001b[0m \u001b[0mmy_collection\u001b[0m\u001b[0;34m\u001b[0m\u001b[0m\n\u001b[0m\u001b[1;32m      2\u001b[0m \u001b[0;34m\u001b[0m\u001b[0m\n\u001b[1;32m      3\u001b[0m \u001b[0mmy_collection\u001b[0m\u001b[0;34m.\u001b[0m\u001b[0mMyCol\u001b[0m\u001b[0;34m.\u001b[0m\u001b[0mobjects\u001b[0m\u001b[0;34m.\u001b[0m\u001b[0mdelete\u001b[0m\u001b[0;34m(\u001b[0m\u001b[0;34m)\u001b[0m\u001b[0;34m\u001b[0m\u001b[0m\n",
      "\u001b[0;31mModuleNotFoundError\u001b[0m: No module named 'my_collection'"
     ]
    }
   ],
   "source": [
    "\n"
   ]
  },
  {
   "cell_type": "code",
   "execution_count": null,
   "metadata": {},
   "outputs": [],
   "source": []
  }
 ],
 "metadata": {
  "celltoolbar": "Slideshow",
  "kernelspec": {
   "display_name": "Python 3",
   "language": "python",
   "name": "python3"
  },
  "language_info": {
   "codemirror_mode": {
    "name": "ipython",
    "version": 3
   },
   "file_extension": ".py",
   "mimetype": "text/x-python",
   "name": "python",
   "nbconvert_exporter": "python",
   "pygments_lexer": "ipython3",
   "version": "3.7.0"
  }
 },
 "nbformat": 4,
 "nbformat_minor": 2
}
