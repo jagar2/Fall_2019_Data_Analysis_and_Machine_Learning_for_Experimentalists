{
 "cells": [
  {
   "cell_type": "code",
   "execution_count": 5,
   "metadata": {
    "slideshow": {
     "slide_type": "skip"
    }
   },
   "outputs": [],
   "source": [
    "from IPython.display import IFrame"
   ]
  },
  {
   "cell_type": "markdown",
   "metadata": {
    "slideshow": {
     "slide_type": "slide"
    }
   },
   "source": [
    "# What is GitHub?"
   ]
  },
  {
   "cell_type": "markdown",
   "metadata": {
    "slideshow": {
     "slide_type": "fragment"
    }
   },
   "source": [
    "* GitHub is a code hosting platform for version control and collaboration. It lets you and others work together on projects from anywhere."
   ]
  },
  {
   "cell_type": "markdown",
   "metadata": {
    "slideshow": {
     "slide_type": "slide"
    }
   },
   "source": [
    "# Creating a Repository\n",
    "**repository** is usually used to organize a single project. \n",
    "* Contains: folders and files, images, video, spreadsheets, and data."
   ]
  },
  {
   "cell_type": "markdown",
   "metadata": {
    "slideshow": {
     "slide_type": "fragment"
    }
   },
   "source": [
    "## Standard Files\n",
    "\n",
    "### Readme\n",
    "* Contains information about the repository"
   ]
  },
  {
   "cell_type": "markdown",
   "metadata": {
    "slideshow": {
     "slide_type": "fragment"
    }
   },
   "source": [
    "### License file\n",
    "* Sets the license that allows others to use your software"
   ]
  },
  {
   "cell_type": "markdown",
   "metadata": {
    "slideshow": {
     "slide_type": "slide"
    }
   },
   "source": [
    "# Common license"
   ]
  },
  {
   "cell_type": "markdown",
   "metadata": {
    "slideshow": {
     "slide_type": "subslide"
    }
   },
   "source": [
    "# Common license\n",
    "\n",
    "## MIT License\n",
    "Copyright <YEAR> <COPYRIGHT HOLDER>\n",
    "\n",
    "Permission is hereby granted, free of charge, to any person obtaining a copy of this software and associated documentation files (the \"Software\"), to deal in the Software without restriction, including without limitation the rights to use, copy, modify, merge, publish, distribute, sublicense, and/or sell copies of the Software, and to permit persons to whom the Software is furnished to do so, subject to the following conditions:\n",
    "\n",
    "The above copyright notice and this permission notice shall be included in all copies or substantial portions of the Software.\n",
    "\n",
    "THE SOFTWARE IS PROVIDED \"AS IS\", WITHOUT WARRANTY OF ANY KIND, EXPRESS OR IMPLIED, INCLUDING BUT NOT LIMITED TO THE WARRANTIES OF MERCHANTABILITY, FITNESS FOR A PARTICULAR PURPOSE AND NONINFRINGEMENT. IN NO EVENT SHALL THE AUTHORS OR COPYRIGHT HOLDERS BE LIABLE FOR ANY CLAIM, DAMAGES OR OTHER LIABILITY, WHETHER IN AN ACTION OF CONTRACT, TORT OR OTHERWISE, ARISING FROM, OUT OF OR IN CONNECTION WITH THE SOFTWARE OR THE USE OR OTHER DEALINGS IN THE SOFTWARE."
   ]
  },
  {
   "cell_type": "markdown",
   "metadata": {
    "slideshow": {
     "slide_type": "subslide"
    }
   },
   "source": [
    "# Common license\n",
    "\n",
    "## GNU General Public License \n",
    "<one line to give the program's name and a brief idea of what it does.>\n",
    "Copyright (C) <year>  <name of author>\n",
    "\n",
    "This program is free software: you can redistribute it and/or modify\n",
    "it under the terms of the GNU General Public License as published by\n",
    "the Free Software Foundation, either version 3 of the License, or\n",
    "(at your option) any later version.\n",
    "\n",
    "This program is distributed in the hope that it will be useful,\n",
    "but WITHOUT ANY WARRANTY; without even the implied warranty of\n",
    "MERCHANTABILITY or FITNESS FOR A PARTICULAR PURPOSE.  See the\n",
    "GNU General Public License for more details.\n",
    "\n",
    "You should have received a copy of the GNU General Public License"
   ]
  },
  {
   "cell_type": "markdown",
   "metadata": {
    "slideshow": {
     "slide_type": "subslide"
    }
   },
   "source": [
    "# Common license\n",
    "\n",
    "## Apache License, Version 2\n",
    "Copyright [yyyy] [name of copyright owner]\n",
    "\n",
    "Licensed under the Apache License, Version 2.0 (the \"License\");\n",
    "you may not use this file except in compliance with the License.\n",
    "You may obtain a copy of the License at\n",
    "\n",
    " http://www.apache.org/licenses/LICENSE-2.0\n",
    "\n",
    "Unless required by applicable law or agreed to in writing, software\n",
    "distributed under the License is distributed on an \"AS IS\" BASIS,\n",
    "WITHOUT WARRANTIES OR CONDITIONS OF ANY KIND, either express or implied.\n",
    "See the License for the specific language governing permissions and\n",
    "limitations under the License."
   ]
  },
  {
   "cell_type": "markdown",
   "metadata": {
    "slideshow": {
     "slide_type": "slide"
    }
   },
   "source": [
    "# Making a respository\n",
    "\n",
    "www.github.com"
   ]
  },
  {
   "cell_type": "markdown",
   "metadata": {
    "slideshow": {
     "slide_type": "slide"
    }
   },
   "source": [
    "# Why use GIT? \n",
    "### Have you ever saved versions of a file like this: \n",
    "* `Graph`\n",
    "* `Graph_V2`\n",
    "* `Graph_V2_final`\n",
    "* `Graph_V2_final_V3`\n",
    "\n",
    "Branches accomplish a similar goal in a GitHub Repository\n",
    "* Work on code in `branch` ... once verified merge it to the `master`"
   ]
  },
  {
   "cell_type": "markdown",
   "metadata": {
    "slideshow": {
     "slide_type": "subslide"
    }
   },
   "source": [
    "Distributed Version control system\n",
    "* Every developer has a backup of the entire repository\n",
    "![figure](images/distributed.png)"
   ]
  },
  {
   "cell_type": "markdown",
   "metadata": {
    "slideshow": {
     "slide_type": "slide"
    }
   },
   "source": [
    "# Check that git is installed and the verison\n",
    "`git --version`"
   ]
  },
  {
   "cell_type": "markdown",
   "metadata": {
    "slideshow": {
     "slide_type": "fragment"
    }
   },
   "source": [
    "# If git is not installed\n",
    "`sudo apt install git-all`"
   ]
  },
  {
   "cell_type": "markdown",
   "metadata": {
    "slideshow": {
     "slide_type": "subslide"
    }
   },
   "source": [
    "# set your own configuration\n",
    "`git config --global user.name \"Joshua Agar\"` <br>\n",
    "`git config --global user.email \"jca92@drexel.edu\"`<br>\n",
    "`git config --list`"
   ]
  },
  {
   "cell_type": "markdown",
   "metadata": {
    "slideshow": {
     "slide_type": "subslide"
    }
   },
   "source": [
    "# How to find help?\n",
    "`git config --help`"
   ]
  },
  {
   "cell_type": "markdown",
   "metadata": {
    "slideshow": {
     "slide_type": "fragment"
    }
   },
   "source": [
    "# Have a local codebase that you want to start tracking\n",
    "\n",
    "`cd Make_New/`"
   ]
  },
  {
   "cell_type": "markdown",
   "metadata": {
    "slideshow": {
     "slide_type": "fragment"
    }
   },
   "source": [
    "## initiates a new repository\n",
    "`git init`"
   ]
  },
  {
   "cell_type": "markdown",
   "metadata": {
    "slideshow": {
     "slide_type": "fragment"
    }
   },
   "source": [
    "# Ignore specific files\n",
    "\n",
    "# makes an ignore file\n",
    "`touch .gitignore`"
   ]
  },
  {
   "cell_type": "markdown",
   "metadata": {
    "slideshow": {
     "slide_type": "fragment"
    }
   },
   "source": [
    "## Make a file from the command line\n",
    "`echo This is some text > myfile.txt`"
   ]
  },
  {
   "cell_type": "markdown",
   "metadata": {
    "slideshow": {
     "slide_type": "fragment"
    }
   },
   "source": [
    "# Add files to remote\n",
    "`git add .` "
   ]
  },
  {
   "cell_type": "markdown",
   "metadata": {
    "slideshow": {
     "slide_type": "fragment"
    }
   },
   "source": [
    "# Commit the files\n",
    "`git commit -m \"initial commit\"`"
   ]
  },
  {
   "cell_type": "markdown",
   "metadata": {
    "slideshow": {
     "slide_type": "fragment"
    }
   },
   "source": [
    "# Check Status\n",
    "`git log`"
   ]
  },
  {
   "cell_type": "markdown",
   "metadata": {
    "slideshow": {
     "slide_type": "slide"
    }
   },
   "source": [
    "# Dealing with an Online Repo"
   ]
  },
  {
   "cell_type": "markdown",
   "metadata": {
    "slideshow": {
     "slide_type": "fragment"
    }
   },
   "source": [
    "## Making a remote repo\n",
    "### General example\n",
    "```git remote add origin https://github.com/user/repo.git ``` <br>\n",
    "`git push origin master`"
   ]
  },
  {
   "cell_type": "markdown",
   "metadata": {
    "slideshow": {
     "slide_type": "fragment"
    }
   },
   "source": [
    "# Cloning a Repo\n",
    "\n",
    "`git clone https://github.com/jagar2/Hello_world.git`\n",
    "\n",
    "### see it with `ls -la`"
   ]
  },
  {
   "cell_type": "markdown",
   "metadata": {
    "slideshow": {
     "slide_type": "fragment"
    }
   },
   "source": [
    "### Modify Some File\n",
    "\n",
    "Check your modifications\n",
    "`git diff`"
   ]
  },
  {
   "cell_type": "markdown",
   "metadata": {
    "slideshow": {
     "slide_type": "fragment"
    }
   },
   "source": [
    "## Check your status\n",
    "`git status`"
   ]
  },
  {
   "cell_type": "markdown",
   "metadata": {
    "slideshow": {
     "slide_type": "fragment"
    }
   },
   "source": [
    "## Stage files to update\n",
    "`git add -A`\n",
    "or\n",
    "`git add .`\n",
    "or\n",
    "`git add README.md`"
   ]
  },
  {
   "cell_type": "markdown",
   "metadata": {
    "slideshow": {
     "slide_type": "subslide"
    }
   },
   "source": [
    "## Advanced File Adding\n",
    "\n",
    "### Adding files one by one\n",
    "`git add filename`\n",
    "\n",
    "### Adding all files in the current directory\n",
    "`git add -A`\n",
    "\n",
    "### Adding all files changes in the current directory\n",
    "`git add .`\n",
    "\n",
    "### Choosing what changes to add (this will got through all your  changes and you can 'Y' or 'N' the changes)\n",
    "`git add -p`"
   ]
  },
  {
   "cell_type": "markdown",
   "metadata": {
    "slideshow": {
     "slide_type": "subslide"
    }
   },
   "source": [
    "## Commit Files\n",
    "`git commit -m \"INSERT TEXT HERE\"` \n",
    "<br>\n",
    "it is important to add comment so you know what your commit is\n"
   ]
  },
  {
   "cell_type": "markdown",
   "metadata": {
    "slideshow": {
     "slide_type": "subslide"
    }
   },
   "source": [
    "# Advanced Commits\n",
    "\n",
    "### Commit staged file(s) \n",
    "### This is typically used for shorter commit messages\n",
    "`git commit -m 'commit message'`\n",
    "\n",
    "### Add file and commit in one shot\n",
    "`git commit filename -m 'commit message'`\n",
    "\n",
    "### Add file and commit staged file\n",
    "`git commit -am 'insert commit message'`\n",
    "\n",
    "### Changing your most recent commit message\n",
    "`git commit --amend 'new commit message'` \n",
    "\n",
    "### Combine a sequence of commits together into a single one \n",
    "#### You might use this to organize a messy commit history\n",
    "`git rebase -i`\n",
    "\n",
    "### This will give you an interface on your core editor:\n",
    "#### Commands:\n",
    "p, pick = use commit <br>\n",
    "r, reword = use commit, but edit the commit message <br>\n",
    "e, edit = use commit, but stop for amending <br>\n",
    "s, squash = use commit, but meld into previous commit <br>\n",
    "f, fixup = like \"squash\", but discard this commit's log message <br>\n",
    "x, exec = run command (the rest of the line) using shell"
   ]
  },
  {
   "cell_type": "markdown",
   "metadata": {
    "slideshow": {
     "slide_type": "subslide"
    }
   },
   "source": [
    "# Pull Commits\n",
    "In case someone else has made changes to the repository while you are working you should pull those changes to your local repository <br>\n",
    "`git pull origin master` <br>\n",
    "`origin` - means the repository you are in"
   ]
  },
  {
   "cell_type": "markdown",
   "metadata": {
    "slideshow": {
     "slide_type": "fragment"
    }
   },
   "source": [
    "# Push to Online repository\n",
    "`git push origin master`"
   ]
  },
  {
   "cell_type": "markdown",
   "metadata": {
    "slideshow": {
     "slide_type": "slide"
    }
   },
   "source": [
    "# Branching\n",
    "**Branching** is the way to work on different versions of a repository at the same time\n",
    "By default your repository has a branch named `master`. \n",
    "* Good to use branch to experiment and create edits before committing them to the `master`\n",
    "* When working on a branch you are taking the `master` at a point in time\n",
    "    - if others make changes to master you can `pull` them to your branch"
   ]
  },
  {
   "cell_type": "markdown",
   "metadata": {
    "slideshow": {
     "slide_type": "fragment"
    }
   },
   "source": [
    "# Diagram of workflow\n",
    "![figure](images/branch.png)\n",
    "Diagram shows:\n",
    "* The `master` branch\n",
    "* A new branch called `feature`\n",
    "* The journey that `feature` takes before it is merged with the `master`"
   ]
  },
  {
   "cell_type": "markdown",
   "metadata": {
    "slideshow": {
     "slide_type": "slide"
    }
   },
   "source": [
    "# Why use GIT? \n",
    "### Have you ever saved versions of a file like this: \n",
    "* `Graph`\n",
    "* `Graph_V2`\n",
    "* `Graph_V2_final`\n",
    "* `Graph_V2_final_V3`\n",
    "\n",
    "Branches accomplish a similar goal in a GitHub Repository\n",
    "* Work on code in `branch` ... once verified merge it to the `master`"
   ]
  },
  {
   "cell_type": "markdown",
   "metadata": {
    "slideshow": {
     "slide_type": "slide"
    }
   },
   "source": [
    "# Syntax for branching\n",
    "\n",
    "### Create a local branch to work on\n",
    "`git checkout -b branchname`\n",
    "\n",
    "### Switching between 2 branches \n",
    "`git checkout branch_1`<br>\n",
    "`git checkout branch_2`\n",
    "### Pushing your new local branch to remote as backup\n",
    "`git push -u origin branch_2`\n",
    "\n",
    "### Deleting a local branch - this won't let you delete a branch that hasn't been merged yet\n",
    "`git branch -d branch_2`\n",
    "\n",
    "### Deleting a local branch - this WILL delete a branch even if it hasn't been merged yet!\n",
    "`git branch -D branch_2`\n",
    "\n",
    "### Viewing all current branches for the repository, including both local and remote branches. Great to see if you already have a branch for a particular feature addition, especially on bigger projects\n",
    "`git branch -a`\n",
    "\n",
    "### Viewing all branches that have been merged into your current  branch, including local and remote. Great for seeing where all your code has come from!\n",
    "`git branch -a --merged`\n",
    "\n",
    "### Viewing all branches that haven't been merged into your current branch, including local and remote\n",
    "`git branch -a --no-merged`\n",
    "\n",
    "### Viewing all local branches\n",
    "`git branch`\n",
    "\n",
    "### Viewing all remote branches\n",
    "`git branch -r`\n",
    "\n",
    "# Rebase master branch into local branch\n",
    "`git rebase origin/master`\n",
    "\n",
    "# Pushing local branch after rebasing master into local branch\n",
    "`git push origin +branchname`"
   ]
  },
  {
   "cell_type": "markdown",
   "metadata": {
    "slideshow": {
     "slide_type": "subslide"
    }
   },
   "source": [
    "# Creating a new branch\n",
    "`git branch new_branch`"
   ]
  },
  {
   "cell_type": "markdown",
   "metadata": {
    "slideshow": {
     "slide_type": "fragment"
    }
   },
   "source": [
    "## list the location of the repository\n",
    "`git remote -v`\n",
    "\n",
    "## lists the branches local or remote\n",
    "`git branch -a`"
   ]
  },
  {
   "cell_type": "markdown",
   "metadata": {
    "slideshow": {
     "slide_type": "fragment"
    }
   },
   "source": [
    "# Switching or checking out a branch\n",
    "`git checkout new_branch`"
   ]
  },
  {
   "cell_type": "markdown",
   "metadata": {
    "slideshow": {
     "slide_type": "fragment"
    }
   },
   "source": [
    "`git add -A` <br>\n",
    "Only effects the local branch `new_branch`"
   ]
  },
  {
   "cell_type": "markdown",
   "metadata": {
    "slideshow": {
     "slide_type": "fragment"
    }
   },
   "source": [
    "`git commit -m \"new_branch_changes\"`"
   ]
  },
  {
   "cell_type": "markdown",
   "metadata": {
    "slideshow": {
     "slide_type": "fragment"
    }
   },
   "source": [
    "# Push branch to online repository\n",
    "`u` - means associates the local branch with the online branches <br>\n",
    "`git push -u origin new_branch`"
   ]
  },
  {
   "cell_type": "markdown",
   "metadata": {
    "slideshow": {
     "slide_type": "fragment"
    }
   },
   "source": [
    "`git branch -a`"
   ]
  },
  {
   "cell_type": "markdown",
   "metadata": {
    "slideshow": {
     "slide_type": "fragment"
    }
   },
   "source": [
    "# Checkout Master\n",
    "`git checkout master`"
   ]
  },
  {
   "cell_type": "markdown",
   "metadata": {
    "slideshow": {
     "slide_type": "fragment"
    }
   },
   "source": [
    "# Good idea to pull again\n",
    "`git pull`"
   ]
  },
  {
   "cell_type": "markdown",
   "metadata": {
    "slideshow": {
     "slide_type": "subslide"
    }
   },
   "source": [
    "# Merge branches\n",
    "\n",
    "## check the branches that we have merged thus far\n",
    "`git branch --merged`"
   ]
  },
  {
   "cell_type": "markdown",
   "metadata": {
    "slideshow": {
     "slide_type": "fragment"
    }
   },
   "source": [
    "## Merge branches\n",
    "`git merge new_branch`"
   ]
  },
  {
   "cell_type": "markdown",
   "metadata": {
    "slideshow": {
     "slide_type": "fragment"
    }
   },
   "source": [
    "# Push changes\n",
    "`git push origin master`"
   ]
  },
  {
   "cell_type": "markdown",
   "metadata": {
    "slideshow": {
     "slide_type": "subslide"
    }
   },
   "source": [
    "# Deleting old branch"
   ]
  },
  {
   "cell_type": "markdown",
   "metadata": {
    "slideshow": {
     "slide_type": "fragment"
    }
   },
   "source": [
    "`git branch --merged`"
   ]
  },
  {
   "cell_type": "markdown",
   "metadata": {
    "slideshow": {
     "slide_type": "fragment"
    }
   },
   "source": [
    "Deletes the local branch: <br>\n",
    "`git branch -d new_branch`"
   ]
  },
  {
   "cell_type": "markdown",
   "metadata": {
    "slideshow": {
     "slide_type": "fragment"
    }
   },
   "source": [
    "`git branch -a`"
   ]
  },
  {
   "cell_type": "markdown",
   "metadata": {
    "slideshow": {
     "slide_type": "fragment"
    }
   },
   "source": [
    "Deletes the remote branch <br>\n",
    "`git push origin --delete new_branch`"
   ]
  },
  {
   "cell_type": "markdown",
   "metadata": {
    "slideshow": {
     "slide_type": "slide"
    }
   },
   "source": [
    "# Fixing Common Mistakes"
   ]
  },
  {
   "cell_type": "markdown",
   "metadata": {
    "slideshow": {
     "slide_type": "fragment"
    }
   },
   "source": [
    "### Switch to the version of the code of the most recent commit\n",
    "`git reset HEAD` <br>\n",
    "`git reset HEAD -- filename` - for a specific file"
   ]
  },
  {
   "cell_type": "markdown",
   "metadata": {
    "slideshow": {
     "slide_type": "fragment"
    }
   },
   "source": [
    "### Switch to the version of the code before the most recent commit\n",
    "`git reset HEAD^ -- filename`<br>\n",
    "`git reset HEAD^` -- filename # for a specific file"
   ]
  },
  {
   "cell_type": "markdown",
   "metadata": {
    "slideshow": {
     "slide_type": "fragment"
    }
   },
   "source": [
    "### Switch back 3 or 5 commits\n",
    "`git reset HEAD~3` -- filename <br>\n",
    "`git reset HEAD~3` -- filename - for a specific file <br>\n",
    "`git reset HEAD~5` -- filename <br>\n",
    "`git reset HEAD~5` -- filename - for a specific file"
   ]
  },
  {
   "cell_type": "markdown",
   "metadata": {
    "slideshow": {
     "slide_type": "subslide"
    }
   },
   "source": [
    "## Soft reset\n",
    "### Switch back to a specific commit\n",
    " Where the '0766c053' is the commit ID\n",
    "`git reset 0766c053 -- filename`\n",
    "`git reset 0766c053 -- filename` -for a specific file\n",
    "## Hard reset\n",
    "The previous commands were what's known as \"soft\" resets. Your  code is reset, but git will still keep a copy of the other code  handy in case you need it. On the other hand, the --hard flag tells Git to overwrite all changes in the working directory.\n",
    "`git reset --hard 0766c053`"
   ]
  },
  {
   "cell_type": "markdown",
   "metadata": {
    "slideshow": {
     "slide_type": "subslide"
    }
   },
   "source": [
    "## Error to the commit message\n",
    "`git commit --amend -m \"completed subtract function` <br>\n",
    "Note this will change the hash"
   ]
  },
  {
   "cell_type": "markdown",
   "metadata": {
    "slideshow": {
     "slide_type": "fragment"
    }
   },
   "source": [
    "## Forget to add a file\n",
    "`touch .gitignore`"
   ]
  },
  {
   "cell_type": "markdown",
   "metadata": {
    "slideshow": {
     "slide_type": "fragment"
    }
   },
   "source": [
    "`git add .`"
   ]
  },
  {
   "cell_type": "markdown",
   "metadata": {
    "slideshow": {
     "slide_type": "fragment"
    }
   },
   "source": [
    "`git commit --amend`"
   ]
  },
  {
   "cell_type": "markdown",
   "metadata": {
    "slideshow": {
     "slide_type": "fragment"
    }
   },
   "source": [
    "VIM\n",
    "\n",
    "`:wq`"
   ]
  },
  {
   "cell_type": "markdown",
   "metadata": {
    "slideshow": {
     "slide_type": "subslide"
    }
   },
   "source": [
    "# Commit to the Wrong Branch\n",
    "`git checkout math.py`"
   ]
  },
  {
   "cell_type": "markdown",
   "metadata": {
    "slideshow": {
     "slide_type": "fragment"
    }
   },
   "source": [
    "`git commit -m \"multiply\"`"
   ]
  },
  {
   "cell_type": "markdown",
   "metadata": {
    "slideshow": {
     "slide_type": "fragment"
    }
   },
   "source": [
    "`git log`"
   ]
  },
  {
   "cell_type": "markdown",
   "metadata": {
    "slideshow": {
     "slide_type": "fragment"
    }
   },
   "source": [
    "`git checkout multiply`"
   ]
  },
  {
   "cell_type": "markdown",
   "metadata": {
    "slideshow": {
     "slide_type": "fragment"
    }
   },
   "source": [
    "`git cherry-pick [commit]`"
   ]
  },
  {
   "cell_type": "markdown",
   "metadata": {
    "slideshow": {
     "slide_type": "subslide"
    }
   },
   "source": [
    "# How to delete all changes\n",
    "`git reset --hard [commit]`"
   ]
  },
  {
   "cell_type": "markdown",
   "metadata": {
    "slideshow": {
     "slide_type": "slide"
    }
   },
   "source": [
    "# Git Stash\n",
    "Stores files that you are not ready to commit but you want to save for a later use\n",
    "* Good when you have uncommited files that you want to move between branches"
   ]
  },
  {
   "cell_type": "markdown",
   "metadata": {
    "slideshow": {
     "slide_type": "fragment"
    }
   },
   "source": [
    "Saves the stash <br>\n",
    "`git stash save \"message\"`"
   ]
  },
  {
   "cell_type": "markdown",
   "metadata": {
    "slideshow": {
     "slide_type": "fragment"
    }
   },
   "source": [
    "Checking the stash <br>\n",
    "`git stash list`"
   ]
  },
  {
   "cell_type": "markdown",
   "metadata": {
    "slideshow": {
     "slide_type": "fragment"
    }
   },
   "source": [
    "Applying the stash <br>\n",
    "`git stash apply`"
   ]
  },
  {
   "cell_type": "markdown",
   "metadata": {
    "slideshow": {
     "slide_type": "fragment"
    }
   },
   "source": [
    "Deleting stash <br>\n",
    "`git stash drop [stash number]` <br>\n",
    "`git stash clear`"
   ]
  },
  {
   "cell_type": "code",
   "execution_count": 7,
   "metadata": {
    "slideshow": {
     "slide_type": "slide"
    }
   },
   "outputs": [
    {
     "data": {
      "text/html": [
       "\n",
       "        <iframe\n",
       "            width=\"1000\"\n",
       "            height=\"1000\"\n",
       "            src=\"https://github.github.com/training-kit/downloads/github-git-cheat-sheet.pdf\"\n",
       "            frameborder=\"0\"\n",
       "            allowfullscreen\n",
       "        ></iframe>\n",
       "        "
      ],
      "text/plain": [
       "<IPython.lib.display.IFrame at 0x7f9d70445c50>"
      ]
     },
     "execution_count": 7,
     "metadata": {},
     "output_type": "execute_result"
    }
   ],
   "source": [
    "# Git Cheat Sheet\n",
    "IFrame(src='https://github.github.com/training-kit/downloads/github-git-cheat-sheet.pdf', width=1000, height=1000)"
   ]
  },
  {
   "cell_type": "markdown",
   "metadata": {
    "slideshow": {
     "slide_type": "slide"
    }
   },
   "source": [
    "# Other Useful Tricks"
   ]
  },
  {
   "cell_type": "markdown",
   "metadata": {
    "slideshow": {
     "slide_type": "fragment"
    }
   },
   "source": [
    "## Searching\n",
    "\n",
    "Searches for parts of strings in a directory <br>\n",
    "`git grep 'something'`\n",
    "\n",
    "Searches for parts of strings in a directory and the -n prints out the line numbers where git has found matches<br>\n",
    "`git grep -n 'something'`\n",
    "\n",
    "Searches for parts of string with some context (some lines  before and some after the 'something' we are looking for) <br>\n",
    "`git grep -C<number of lines> 'something'`\n",
    "\n",
    "Searches for parts of string and also shows lines BEFORE it <br>\n",
    "`git grep -B<number of lines> 'something'`\n",
    "\n",
    "Searches for parts of string and also shows lines AFTER it <br>\n",
    "`git grep -A<number of lines> 'something'`"
   ]
  },
  {
   "cell_type": "markdown",
   "metadata": {
    "slideshow": {
     "slide_type": "fragment"
    }
   },
   "source": [
    "## Checking Authorship\n",
    "Show alteration history of a file with the name of the author <br>\n",
    "`git blame 'filename'`\n",
    "\n",
    "Show alteration history of a file with the name of the author and the git commit ID <br>\n",
    "`git blame 'filename' -l`"
   ]
  },
  {
   "cell_type": "markdown",
   "metadata": {
    "slideshow": {
     "slide_type": "subslide"
    }
   },
   "source": [
    "## Logging\n",
    "Show a list of all commits in a repository. This command shows  everything about a commit, such as commit ID, author, date and  commit message. <br>\n",
    "`git log`\n",
    "\n",
    "List of commits showing only commit messages and changes<br>\n",
    "`git log -p`\n",
    "\n",
    "List of commits with the particular string you are looking for<br>\n",
    "`git log -S 'something'`\n",
    "\n",
    "List of commits by author<br>\n",
    "`git log --author 'Author Name'`\n",
    "\n",
    "Show a summary of the list of commits in a repository. This    shows a shorter version of the commit ID and the<br> commit message.\n",
    "`git log --oneline`\n",
    "\n",
    "Show a list of commits in a repository since yesterday<br>\n",
    "`git log --since=yesterday`\n",
    "\n",
    "Shows log by author and searching for specific term inside the  commit message<br>\n",
    "`git log --grep \"term\" --author \"name\"`"
   ]
  },
  {
   "cell_type": "code",
   "execution_count": null,
   "metadata": {},
   "outputs": [],
   "source": []
  }
 ],
 "metadata": {
  "celltoolbar": "Slideshow",
  "kernelspec": {
   "display_name": "Python 3 (ipykernel)",
   "language": "python",
   "name": "python3"
  },
  "language_info": {
   "codemirror_mode": {
    "name": "ipython",
    "version": 3
   },
   "file_extension": ".py",
   "mimetype": "text/x-python",
   "name": "python",
   "nbconvert_exporter": "python",
   "pygments_lexer": "ipython3",
   "version": "3.8.13"
  }
 },
 "nbformat": 4,
 "nbformat_minor": 2
}
