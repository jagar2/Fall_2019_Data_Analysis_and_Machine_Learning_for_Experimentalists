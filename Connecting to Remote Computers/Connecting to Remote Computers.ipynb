{
 "cells": [
  {
   "cell_type": "markdown",
   "metadata": {
    "slideshow": {
     "slide_type": "slide"
    }
   },
   "source": [
    "# SSH\n",
    "\n",
    "SSH, also known as Secure Shell or Secure Socket Shell, is a network protocol that gives users, particularly system administrators, a secure way to access a computer over an unsecured network."
   ]
  },
  {
   "cell_type": "markdown",
   "metadata": {
    "slideshow": {
     "slide_type": "slide"
    }
   },
   "source": [
    "## Information about computers"
   ]
  },
  {
   "cell_type": "markdown",
   "metadata": {
    "slideshow": {
     "slide_type": "fragment"
    }
   },
   "source": [
    "There are 6 computers we have available to access:\n",
    "\n",
    "* ece-hpc01.cc.lehigh.edu\n",
    "* ece-hpc02.cc.lehigh.edu\n",
    "* ece-hpc03.cc.lehigh.edu\n",
    "* ece-hpc04.cc.lehigh.edu\n",
    "* ece-hpc05.cc.lehigh.edu\n",
    "* ece-hpc06.cc.lehigh.edu"
   ]
  },
  {
   "cell_type": "markdown",
   "metadata": {
    "slideshow": {
     "slide_type": "subslide"
    }
   },
   "source": [
    "1. Connect to VPN or Lehigh network"
   ]
  },
  {
   "cell_type": "markdown",
   "metadata": {
    "slideshow": {
     "slide_type": "subslide"
    }
   },
   "source": [
    "2. In your terminal or command window login to Computer using SSH `ssh -L 8080:localhost:8080  jca318@ece-hpc02.cc.lehigh.edu`\n",
    "\n",
    "    For login replace: \n",
    "\n",
    "    * Number_for_local_port(choose something >8000 randomly):localhost:Number_for_local_port_on_your_computer\n",
    "    * `jca318` - your user name\n",
    "    * `ece-hpc02.cc.lehigh.edu` - name and location of your computer\n",
    "    \n",
    "Note for windows you will need an SSH client. The most common is https://www.putty.org/"
   ]
  },
  {
   "cell_type": "markdown",
   "metadata": {
    "slideshow": {
     "slide_type": "subslide"
    }
   },
   "source": [
    "3. Load your python enviorment by typing in the command line `source init-anaconda3-env.sh`"
   ]
  },
  {
   "cell_type": "markdown",
   "metadata": {
    "slideshow": {
     "slide_type": "subslide"
    }
   },
   "source": [
    "4. Validate that you have loaded the environment by typing in the **command line** `python -V`"
   ]
  },
  {
   "cell_type": "markdown",
   "metadata": {
    "slideshow": {
     "slide_type": "subslide"
    }
   },
   "source": [
    "5. Create a TMUX session by typing in your **command line** `tmux new -s myname`\n",
    "\n",
    "### What is Tmux"
   ]
  },
  {
   "cell_type": "markdown",
   "metadata": {
    "slideshow": {
     "slide_type": "fragment"
    }
   },
   "source": [
    "**tmux is a terminal multiplexer**\n",
    "* Within one terminal window you can create multiple split-views (called \"panes\"), each of which will have its own terminal instance"
   ]
  },
  {
   "cell_type": "markdown",
   "metadata": {
    "slideshow": {
     "slide_type": "fragment"
    }
   },
   "source": [
    "* tmux panes are in sessions which can be detached and reattached without shutting down. This allows you to pick up where you left off."
   ]
  },
  {
   "cell_type": "markdown",
   "metadata": {
    "slideshow": {
     "slide_type": "subslide"
    }
   },
   "source": [
    "# tmux cheatsheet\n",
    "\n",
    "As configured in [my dotfiles](https://github.com/henrik/dotfiles/blob/master/tmux.conf).\n",
    "\n",
    "start new:\n",
    "\n",
    "    tmux\n",
    "\n",
    "start new with session name:\n",
    "\n",
    "    tmux new -s myname\n",
    "\n",
    "attach:\n",
    "\n",
    "    tmux a  #  (or at, or attach)\n",
    "\n",
    "attach to named:\n",
    "\n",
    "    tmux a -t myname\n",
    "\n",
    "list sessions:\n",
    "\n",
    "    tmux ls\n",
    "\n",
    "kill session:\n",
    "\n",
    "    tmux kill-session -t myname\n",
    "\n",
    "In tmux, hit the prefix `ctrl+b` and then:\n",
    "\n",
    "## Sessions\n",
    "\n",
    "    :new<CR>  new session\n",
    "    s  list sessions\n",
    "    $  name session\n",
    "\n",
    "## Windows (tabs)\n",
    "\n",
    "    c           new window\n",
    "    ,           name window\n",
    "    w           list windows\n",
    "    f           find window\n",
    "    &           kill window\n",
    "    .           move window - prompted for a new number\n",
    "    :movew<CR>  move window to the next unused number\n",
    "\n",
    "## Panes (splits)\n",
    "\n",
    "    %  horizontal split\n",
    "    \"  vertical split\n",
    "    \n",
    "    o  swap panes\n",
    "    q  show pane numbers\n",
    "    x  kill pane\n",
    "    ⍽  space - toggle between layouts\n",
    "\n",
    "## Window/pane surgery\n",
    "\n",
    "    :joinp -s :2<CR>  move window 2 into a new pane in the current window\n",
    "    :joinp -t :1<CR>  move the current pane into a new pane in window 1\n",
    "\n",
    "* [Move window to pane](http://unix.stackexchange.com/questions/14300/tmux-move-window-to-pane)\n",
    "* [How to reorder windows](http://superuser.com/questions/343572/tmux-how-do-i-reorder-my-windows)\n",
    "\n",
    "## Misc\n",
    "\n",
    "    d  detach\n",
    "    t  big clock\n",
    "    ?  list shortcuts\n",
    "    :  prompt\n",
    "\n",
    "Resources:\n",
    "\n",
    "* [cheat sheet](http://cheat.errtheblog.com/s/tmux/)"
   ]
  },
  {
   "cell_type": "markdown",
   "metadata": {
    "slideshow": {
     "slide_type": "subslide"
    }
   },
   "source": [
    "6. Spin up your Jupyter Notebook by typing in your **command line** jupyter notebook --port 8080\n",
    "    * the port number should be the same as listed on the server side during ssh login"
   ]
  },
  {
   "cell_type": "markdown",
   "metadata": {
    "slideshow": {
     "slide_type": "subslide"
    }
   },
   "source": [
    "7. In your **web browser** navigate to `http://localhost:8080/`\n",
    "    * the port number should be the number listed on the local side during SSH login "
   ]
  },
  {
   "cell_type": "markdown",
   "metadata": {
    "slideshow": {
     "slide_type": "subslide"
    }
   },
   "source": [
    "8. Copy the token listed on your **command line** that provides secure access"
   ]
  },
  {
   "cell_type": "markdown",
   "metadata": {
    "slideshow": {
     "slide_type": "subslide"
    }
   },
   "source": [
    "9. If you want to transfer data this can be done manually in Jupyter, git, or using SCP."
   ]
  },
  {
   "cell_type": "markdown",
   "metadata": {
    "slideshow": {
     "slide_type": "subslide"
    }
   },
   "source": [
    "## SCP\n",
    "### Usage\n",
    "`scp <options> source_path destination_path`\n",
    "### Commands\n",
    "copying a file to the remote system using scp command - `scp file user@host:/path/to/file` <br>\n",
    "copying a file from the remote system using scp command - `scp user@host:/path/to/file /local/path/to/file`\n",
    "\n",
    "copying multiple files using scp commands `cp file1 file2 user@host:/path/to/directory`<br>\n",
    "copying an entire directory with scp commands `cp -r /path/to/directory user@host:/path/to/directory`  <br>\n",
    "\n",
    "transfer directory `-r`<br>\n",
    "see the transfer details `-v`<br>\n",
    "copy files with compression `-C`<br>\n",
    "limit bandwith with 800 `-l 8001`   <br>\n",
    "preserving the original attributes of the copied files `-p`  <br>\n",
    "hidden the output `-q`      "
   ]
  },
  {
   "cell_type": "markdown",
   "metadata": {
    "slideshow": {
     "slide_type": "slide"
    }
   },
   "source": [
    "# Check the Specifications of the Computer"
   ]
  },
  {
   "cell_type": "code",
   "execution_count": 5,
   "metadata": {
    "slideshow": {
     "slide_type": "fragment"
    }
   },
   "outputs": [
    {
     "data": {
      "text/plain": [
       "{'total': 34359738368,\n",
       " 'available': 18164453376,\n",
       " 'percent': 47.1,\n",
       " 'used': 12998856704,\n",
       " 'free': 9022066688,\n",
       " 'active': 9141325824,\n",
       " 'inactive': 7549063168,\n",
       " 'wired': 3857530880}"
      ]
     },
     "execution_count": 5,
     "metadata": {},
     "output_type": "execute_result"
    }
   ],
   "source": [
    "#!/usr/bin/env python\n",
    "import psutil\n",
    "# gives a single float value\n",
    "psutil.cpu_percent()\n",
    "# gives an object with many fields\n",
    "psutil.virtual_memory()\n",
    "# you can convert that object to a dictionary \n",
    "dict(psutil.virtual_memory()._asdict())"
   ]
  },
  {
   "cell_type": "code",
   "execution_count": 6,
   "metadata": {
    "slideshow": {
     "slide_type": "fragment"
    }
   },
   "outputs": [
    {
     "name": "stdout",
     "output_type": "stream",
     "text": [
      "/bin/sh: nvidia-smi: command not found\r\n"
     ]
    }
   ],
   "source": [
    "!nvidia-smi"
   ]
  }
 ],
 "metadata": {
  "celltoolbar": "Slideshow",
  "kernelspec": {
   "display_name": "Python 3",
   "language": "python",
   "name": "python3"
  },
  "language_info": {
   "codemirror_mode": {
    "name": "ipython",
    "version": 3
   },
   "file_extension": ".py",
   "mimetype": "text/x-python",
   "name": "python",
   "nbconvert_exporter": "python",
   "pygments_lexer": "ipython3",
   "version": "3.7.0"
  }
 },
 "nbformat": 4,
 "nbformat_minor": 2
}
