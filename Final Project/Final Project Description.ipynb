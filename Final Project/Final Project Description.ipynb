{
 "cells": [
  {
   "cell_type": "code",
   "execution_count": 8,
   "metadata": {
    "slideshow": {
     "slide_type": "skip"
    }
   },
   "outputs": [],
   "source": [
    "from IPython.display import IFrame"
   ]
  },
  {
   "cell_type": "markdown",
   "metadata": {
    "slideshow": {
     "slide_type": "slide"
    }
   },
   "source": [
    "# Announcement\n",
    "Update to class location and time?\n",
    "\n",
    "New room options: \n",
    "\n",
    "12:10-1:00 PM\n",
    "or\n",
    "1:35-2:25"
   ]
  },
  {
   "cell_type": "markdown",
   "metadata": {
    "slideshow": {
     "slide_type": "slide"
    }
   },
   "source": [
    "# Final Project\n",
    "The main aspect of this course will be an collaborative independent project deploying data-driven analysis approaches\n",
    "\n",
    "This could include:\n",
    "1. Applying concepts of machine learning to a problem\n",
    "2. Applying concepts of deep learning to a problem\n",
    "3. Developing a scientific data management pipeline/protocol"
   ]
  },
  {
   "cell_type": "markdown",
   "metadata": {
    "slideshow": {
     "slide_type": "fragment"
    }
   },
   "source": [
    "The goal of this project is for you to actively learn data driven tools to accelerate your scientific work."
   ]
  },
  {
   "cell_type": "markdown",
   "metadata": {
    "slideshow": {
     "slide_type": "slide"
    }
   },
   "source": [
    "# Acquiring Data\n",
    "Big data is good, but it is not essential\n",
    "1. It is preferred that you use data from your research\n",
    "2. I can help provide you with a specific problem related to my research or we can find another faculty member who might be interested\n",
    "3. You can use a public dataset"
   ]
  },
  {
   "cell_type": "markdown",
   "metadata": {
    "slideshow": {
     "slide_type": "fragment"
    }
   },
   "source": [
    "https://www.kaggle.com/datasets"
   ]
  },
  {
   "cell_type": "markdown",
   "metadata": {
    "slideshow": {
     "slide_type": "slide"
    }
   },
   "source": [
    "# What should the project be? \n",
    "I want you to ask a difficult question of your data\n",
    "* How do I simplify how I extract knowledge from my data? \n",
    "* How do I automate the extraction of quantitative information from my data? \n",
    "* How do I use data to make data-informed on-the-fly decisions?\n",
    "* How can I identify correlations and causation in high-dimensional data? \n",
    "* How can I automate decision making from data?"
   ]
  },
  {
   "cell_type": "markdown",
   "metadata": {
    "slideshow": {
     "slide_type": "slide"
    }
   },
   "source": [
    "# Examples of good questions\n",
    "* How do I classify or quantify objects in images or spectra?\n",
    "* How do I streamline data collection and collation for an experimental workflow?\n",
    "* How do I visualize correlations in datasets?\n",
    "* How do I convert between different types of information?\n",
    "* How do I make an algorithm learn how to do things?"
   ]
  },
  {
   "cell_type": "markdown",
   "metadata": {
    "slideshow": {
     "slide_type": "slide"
    }
   },
   "source": [
    "# Classification"
   ]
  },
  {
   "cell_type": "markdown",
   "metadata": {
    "slideshow": {
     "slide_type": "fragment"
    }
   },
   "source": [
    "![title](images/Classification.jpeg)"
   ]
  },
  {
   "cell_type": "markdown",
   "metadata": {
    "slideshow": {
     "slide_type": "slide"
    }
   },
   "source": [
    "# Regression"
   ]
  },
  {
   "cell_type": "code",
   "execution_count": 9,
   "metadata": {
    "slideshow": {
     "slide_type": "fragment"
    }
   },
   "outputs": [
    {
     "data": {
      "text/html": [
       "\n",
       "        <iframe\n",
       "            width=\"1000\"\n",
       "            height=\"800\"\n",
       "            src=\"https://playground.tensorflow.org/#activation=tanh&batchSize=10&dataset=circle&regDataset=reg-plane&learningRate=0.003&regularizationRate=0&noise=5&networkShape=5,5,6,6,2,2&seed=0.93143&showTestData=false&discretize=false&percTrainData=70&x=true&y=true&xTimesY=false&xSquared=true&ySquared=true&cosX=false&sinX=false&cosY=false&sinY=false&collectStats=false&problem=regression&initZero=false&hideText=false\"\n",
       "            frameborder=\"0\"\n",
       "            allowfullscreen\n",
       "        ></iframe>\n",
       "        "
      ],
      "text/plain": [
       "<IPython.lib.display.IFrame at 0x7fb6183abd30>"
      ]
     },
     "execution_count": 9,
     "metadata": {},
     "output_type": "execute_result"
    }
   ],
   "source": [
    "IFrame(src='https://playground.tensorflow.org/#activation=tanh&batchSize=10&dataset=circle&regDataset=reg-plane&learningRate=0.003&regularizationRate=0&noise=5&networkShape=5,5,6,6,2,2&seed=0.93143&showTestData=false&discretize=false&percTrainData=70&x=true&y=true&xTimesY=false&xSquared=true&ySquared=true&cosX=false&sinX=false&cosY=false&sinY=false&collectStats=false&problem=regression&initZero=false&hideText=false', width=1000, height=800)\n"
   ]
  },
  {
   "cell_type": "markdown",
   "metadata": {
    "slideshow": {
     "slide_type": "slide"
    }
   },
   "source": [
    "# Generation"
   ]
  },
  {
   "cell_type": "markdown",
   "metadata": {
    "slideshow": {
     "slide_type": "fragment"
    }
   },
   "source": [
    "![title](images/teaser.jpg)"
   ]
  },
  {
   "cell_type": "markdown",
   "metadata": {
    "slideshow": {
     "slide_type": "slide"
    }
   },
   "source": [
    "# Reinforcement Learning"
   ]
  },
  {
   "cell_type": "code",
   "execution_count": 10,
   "metadata": {
    "slideshow": {
     "slide_type": "fragment"
    }
   },
   "outputs": [
    {
     "data": {
      "text/html": [
       "\n",
       "        <iframe\n",
       "            width=\"1000\"\n",
       "            height=\"400\"\n",
       "            src=\"https://thumbs.gfycat.com/AmazingDelectableFrenchbulldog-mobile.mp4\"\n",
       "            frameborder=\"0\"\n",
       "            allowfullscreen\n",
       "        ></iframe>\n",
       "        "
      ],
      "text/plain": [
       "<IPython.lib.display.IFrame at 0x7fb5a8212940>"
      ]
     },
     "execution_count": 10,
     "metadata": {},
     "output_type": "execute_result"
    }
   ],
   "source": [
    "IFrame(src='https://thumbs.gfycat.com/AmazingDelectableFrenchbulldog-mobile.mp4', width=1000, height=400)"
   ]
  },
  {
   "cell_type": "markdown",
   "metadata": {
    "slideshow": {
     "slide_type": "slide"
    }
   },
   "source": [
    "# Requirements\n",
    "* 15 minute presentation for MAT 397/497 public seminar\n",
    "* written report ~1,500 words + 2-3 figures (for graduate students’ requirements are ~3,000 words + 4-5 figures) \\\n",
    "\\\n",
    "The goal is to have a draft of a publish worthy scientific result"
   ]
  },
  {
   "cell_type": "markdown",
   "metadata": {
    "slideshow": {
     "slide_type": "fragment"
    }
   },
   "source": [
    "## Timeline\n",
    "Week of September 2 - Project conceptualization - One-on-one meetings <br>\n",
    "Monday Sept. 16 - Team building and brainstorming <br>\n",
    "Friday Sept. 20 - Draft project outline <br>\n",
    "Sept. 30 - Final project outline <br>\n",
    "Oct. 25 - Outline of figures <br>\n",
    "Nov. 1 - Draft of figures <br>\n",
    "Nov. 8 - Outline of text/presentation <br>\n",
    "Nov. 20 - Draft of manuscript <br>\n",
    "Nov. 28 - Draft of presentation <br>\n",
    "Dec. 4,6 - Practice presentation <br>\n",
    "Dec. 10 - Final presentation seminar"
   ]
  },
  {
   "cell_type": "code",
   "execution_count": null,
   "metadata": {},
   "outputs": [],
   "source": []
  }
 ],
 "metadata": {
  "celltoolbar": "Slideshow",
  "kernelspec": {
   "display_name": "Python 3",
   "language": "python",
   "name": "python3"
  },
  "language_info": {
   "codemirror_mode": {
    "name": "ipython",
    "version": 3
   },
   "file_extension": ".py",
   "mimetype": "text/x-python",
   "name": "python",
   "nbconvert_exporter": "python",
   "pygments_lexer": "ipython3",
   "version": "3.7.3"
  }
 },
 "nbformat": 4,
 "nbformat_minor": 2
}
