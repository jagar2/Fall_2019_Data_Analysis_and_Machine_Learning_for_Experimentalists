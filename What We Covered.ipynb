{
 "cells": [
  {
   "cell_type": "markdown",
   "metadata": {},
   "source": [
    "# Visual Displays of Graphical Information"
   ]
  },
  {
   "cell_type": "markdown",
   "metadata": {},
   "source": [
    "* We learned how to plot data in python\n",
    "* We learned how to better consider how graphical information is presented\n",
    "* Remember to use perceptually correct colormaps viridis"
   ]
  },
  {
   "cell_type": "code",
   "execution_count": 2,
   "metadata": {},
   "outputs": [
    {
     "data": {
      "text/html": [
       "\n",
       "        <iframe\n",
       "            width=\"1000\"\n",
       "            height=\"1200\"\n",
       "            src=\"https://www.data-to-viz.com/\"\n",
       "            frameborder=\"0\"\n",
       "            allowfullscreen\n",
       "        ></iframe>\n",
       "        "
      ],
      "text/plain": [
       "<IPython.lib.display.IFrame at 0x7f84585b8ba8>"
      ]
     },
     "execution_count": 2,
     "metadata": {},
     "output_type": "execute_result"
    }
   ],
   "source": [
    "from IPython.display import IFrame\n",
    "\n",
    "IFrame(src='https://www.data-to-viz.com/', width=1000, height=1200)"
   ]
  },
  {
   "cell_type": "markdown",
   "metadata": {},
   "source": [
    "# How to Use Open Source Software"
   ]
  },
  {
   "cell_type": "markdown",
   "metadata": {},
   "source": [
    "* We learned how to conduct data analysis in python\n",
    "* We learned how to use jupyter for data analysis, creating reproducible notebooks, and presentations\n",
    "* We learned how to use distributed and remoting computing resources. \n",
    "* We learned how to use Github for code management, sharing, and contributions. "
   ]
  },
  {
   "cell_type": "markdown",
   "metadata": {},
   "source": [
    "# Machine Learning Intuition"
   ]
  },
  {
   "cell_type": "markdown",
   "metadata": {},
   "source": [
    "* We built an intuition regarding what types of problems can be addressed using machine learning\n",
    "* We were introduced to machine learning models for classification, regression, and generation. \n",
    "* We learned about how to deal with structured data such as images, spectra, etc."
   ]
  },
  {
   "cell_type": "markdown",
   "metadata": {},
   "source": [
    "# Linear Machine Learning\n",
    "* We learned how to use scikit-learn and scikit-image to conduct linear machine learning\n",
    "* We introduced supervised learning models including: \n",
    "    * K-Nearest Neighbors\n",
    "    * Support vector machines w/ kernal tricks\n",
    "    * Decision Trees and random forests\n",
    "    \n",
    "* We introduced unsupervised learning techniques including: \n",
    "    * Principal component analysis\n",
    "    * Independent component analysis\n",
    "    * K-means clustering\n",
    "    * Manifold unfolding techniques: \n",
    "        * Isomap\n",
    "        * T-SNE\n",
    "        * U-map\n",
    "    \n",
    "    \n",
    "* We introduced concepts of regularization including: \n",
    "    * Ridge regression\n",
    "    * Lasso regression\n",
    "    \n",
    "* We learned how to validate machine learning models\n",
    "    * Automating cross validation (test/train splits) \n",
    "    * How to optimize hyperparameters\n",
    "    * How to create machine learning pipelines\n",
    "    \n",
    "* We learned the importance of physically informed features."
   ]
  },
  {
   "cell_type": "markdown",
   "metadata": {},
   "source": [
    "# Pandas Dataframes\n",
    "* We learned how to use Pandas dataframes to manage and sort data"
   ]
  },
  {
   "cell_type": "markdown",
   "metadata": {},
   "source": [
    "# MongoDB\n",
    "* We learned the importance of making searchable database for science"
   ]
  },
  {
   "cell_type": "markdown",
   "metadata": {},
   "source": [
    "# PyUSID\n",
    "* We learned about a generalizable scientific data schema for high dimensional data. \n",
    "* We learned why it is important to have an uniform and extensible data schema. "
   ]
  },
  {
   "cell_type": "markdown",
   "metadata": {},
   "source": [
    "# Dask\n",
    "* We learned how to parallelize slow computational processes locally and on distributed systems"
   ]
  },
  {
   "cell_type": "markdown",
   "metadata": {},
   "source": [
    "# Deep Learning\n",
    "* We learned how deep learning works\n",
    "* We learned how to use pre-trained models for classification, and regression\n",
    "* We learned how convolutional and recurrent neural networks work\n",
    "* We learned how stochastic gradient descent works\n",
    "* We learned the concept of momentum and how to adjust learning rates to improve optimization\n",
    "* We learned how to use UNETs for segmentation of images\n",
    "* We learned how to build and train generative models"
   ]
  },
  {
   "cell_type": "markdown",
   "metadata": {},
   "source": [
    "## Hopefully you learned that you can use programming and machine learning to accellerated your science!!!!"
   ]
  },
  {
   "cell_type": "code",
   "execution_count": null,
   "metadata": {},
   "outputs": [],
   "source": []
  }
 ],
 "metadata": {
  "kernelspec": {
   "display_name": "Python 3",
   "language": "python",
   "name": "python3"
  },
  "language_info": {
   "codemirror_mode": {
    "name": "ipython",
    "version": 3
   },
   "file_extension": ".py",
   "mimetype": "text/x-python",
   "name": "python",
   "nbconvert_exporter": "python",
   "pygments_lexer": "ipython3",
   "version": "3.6.8"
  }
 },
 "nbformat": 4,
 "nbformat_minor": 2
}
