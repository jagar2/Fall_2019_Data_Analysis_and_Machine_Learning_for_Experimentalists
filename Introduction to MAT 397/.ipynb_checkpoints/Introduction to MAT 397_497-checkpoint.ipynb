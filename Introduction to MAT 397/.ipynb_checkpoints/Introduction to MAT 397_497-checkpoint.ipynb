{
 "cells": [
  {
   "cell_type": "code",
   "execution_count": 1,
   "metadata": {
    "slideshow": {
     "slide_type": "skip"
    }
   },
   "outputs": [],
   "source": [
    "from IPython.core.display import HTML\n",
    "HTML(\"\"\"\n",
    "<style>\n",
    "\n",
    "div.cell { /* Tunes the space between cells */\n",
    "margin-top:0em;\n",
    "margin-bottom:0em;\n",
    "}\n",
    "\n",
    "div.text_cell_render h1 { /* Main titles bigger, centered */\n",
    "font-size: 1.5em;\n",
    "line-height:2em;\n",
    "text-align:center;\n",
    "font-family: 'Roboto';\n",
    "}\n",
    "\n",
    "div.text_cell_render h2 { /*  Parts names nearer from text */\n",
    "margin-bottom: 0em;\n",
    "font-size: 1.2em;\n",
    "}\n",
    "\n",
    "div.text_cell_render h3 { /*  Parts names nearer from text */\n",
    "margin-bottom: 0em;\n",
    "font-size: 1em;\n",
    "}\n",
    "\n",
    "div.text_cell_render { /* Customize text cells */\n",
    "font-family: 'Lato';\n",
    "font-size:.8em;\n",
    "line-height:1 em;\n",
    "}\n",
    "</style>\n",
    "\"\"\")\n",
    "\n",
    "from IPython.display import IFrame"
   ]
  },
  {
   "cell_type": "markdown",
   "metadata": {
    "slideshow": {
     "slide_type": "slide"
    }
   },
   "source": [
    "# MAT 397/497\n",
    "## Data Analysis for Experimental Scientists\n",
    "### Joshua C. Agar\n",
    "#### Assistant Professor Department of Materials Science and Engineering\n"
   ]
  },
  {
   "cell_type": "markdown",
   "metadata": {},
   "source": [
    "# Contact Information\n",
    "## Professor Joshua C. Agar\n",
    "Joshua.agar@lehigh.edu \\\n",
    "WH 462 \\\n",
    "**Office Hours:** Tuesdays 10-11 (or by appointment. Please provide at least 24 hours notice)"
   ]
  },
  {
   "cell_type": "code",
   "execution_count": null,
   "metadata": {},
   "outputs": [],
   "source": []
  }
 ],
 "metadata": {
  "celltoolbar": "Slideshow",
  "kernelspec": {
   "display_name": "Python 3",
   "language": "python",
   "name": "python3"
  },
  "language_info": {
   "codemirror_mode": {
    "name": "ipython",
    "version": 3
   },
   "file_extension": ".py",
   "mimetype": "text/x-python",
   "name": "python",
   "nbconvert_exporter": "python",
   "pygments_lexer": "ipython3",
   "version": "3.7.3"
  }
 },
 "nbformat": 4,
 "nbformat_minor": 2
}
