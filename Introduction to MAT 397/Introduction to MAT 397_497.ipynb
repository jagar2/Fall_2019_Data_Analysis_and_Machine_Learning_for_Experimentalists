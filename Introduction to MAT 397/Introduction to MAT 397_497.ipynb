{
 "cells": [
  {
   "cell_type": "code",
   "execution_count": 12,
   "metadata": {
    "slideshow": {
     "slide_type": "skip"
    }
   },
   "outputs": [],
   "source": [
    "from IPython.core.display import HTML\n",
    "\n",
    "HTML(\"\"\"\n",
    "<style>\n",
    "\n",
    "div.cell {\n",
    "margin-top:0em;\n",
    "margin-bottom:0em;\n",
    "}\n",
    "\n",
    "div.text_cell_render h1 { \n",
    "font-size: 1.5em;\n",
    "line-height:2em;\n",
    "text-align:center;\n",
    "font-family: 'Roboto';\n",
    "}\n",
    "\n",
    "div.text_cell_render h2 {\n",
    "margin-bottom: 0em;\n",
    "font-size: 1.2em;\n",
    "}\n",
    "\n",
    "div.text_cell_render h3 { \n",
    "margin-bottom: 0em;\n",
    "font-size: 1em;\n",
    "}\n",
    "\n",
    "div.text_cell_render {\n",
    "font-family: 'Lato';\n",
    "font-size:.8em;\n",
    "line-height:1 em;\n",
    "}\n",
    "</style>\n",
    "\"\"\")\n",
    "\n",
    "from IPython.display import IFrame\n",
    "import tabulate"
   ]
  },
  {
   "cell_type": "markdown",
   "metadata": {
    "slideshow": {
     "slide_type": "slide"
    }
   },
   "source": [
    "# MAT 397/497\n",
    "## Data Analysis for Experimental Scientists\n",
    "### Joshua C. Agar\n",
    "#### Assistant Professor Department of Materials Science and Engineering\n"
   ]
  },
  {
   "cell_type": "markdown",
   "metadata": {
    "slideshow": {
     "slide_type": "slide"
    }
   },
   "source": [
    "# Contact Information\n",
    "## Professor Joshua C. Agar\n",
    "Joshua.agar@lehigh.edu \\\n",
    "WH 462 \\\n",
    "**Office Hours:** Tuesdays 10-11 (or by appointment. Please provide at least 24 hours notice)"
   ]
  },
  {
   "cell_type": "markdown",
   "metadata": {
    "slideshow": {
     "slide_type": "slide"
    }
   },
   "source": [
    "# Prerequisites\n",
    "* Engineering 010, or a basic understanding of coding in any language\n",
    "* More than knowledge in coding I expect resilience when wondering in unfamiliar coding teriority\n",
    "![title](images/bugs_in_code.png)"
   ]
  },
  {
   "cell_type": "markdown",
   "metadata": {
    "slideshow": {
     "slide_type": "slide"
    }
   },
   "source": [
    "# Textbooks \n",
    "This course cover modern concepts in scientific data management and machine learning. These are actively evolving fields with new concepts and resources being made available. \\\n",
    "There is not one good book for this course. A few optional books I am fond of:\n",
    "These resources are optional and can be obtained for free online.\n",
    "* The Visual Display of Quantitative Information, Edward R. Tufte, 978-0961392147\n",
    "* Visual Explanations, Edward R. Tufte, 978-0961392123\n",
    "* Envisioning Information, Edward R. Tufte, 978-0961392116\n",
    "* Deep Learning, Ian Goodfellow, Yoshua Bengio, Aaron Courville, 978-0262035613 Available online - https://www.deeplearningbook.org/"
   ]
  },
  {
   "cell_type": "markdown",
   "metadata": {
    "slideshow": {
     "slide_type": "slide"
    }
   },
   "source": [
    "# Other Resources\n",
    "A vast majority of the tools discussed are community driven and open source. Many times the best resource is the documentation for the software package.\n",
    "* The impact of a computational package and tool is largely determined by the quality of the documentation → good way to check to see if a code is good!\n",
    "* Look at how active the development for a package is"
   ]
  },
  {
   "cell_type": "code",
   "execution_count": 17,
   "metadata": {
    "slideshow": {
     "slide_type": "slide"
    }
   },
   "outputs": [
    {
     "data": {
      "text/html": [
       "\n",
       "        <iframe\n",
       "            width=\"700\"\n",
       "            height=\"400\"\n",
       "            src=\"https://lmgtfy.com/?q=how+do+I+solve+my+code+problem\"\n",
       "            frameborder=\"0\"\n",
       "            allowfullscreen\n",
       "        ></iframe>\n",
       "        "
      ],
      "text/plain": [
       "<IPython.lib.display.IFrame at 0x7faba030eda0>"
      ]
     },
     "execution_count": 17,
     "metadata": {},
     "output_type": "execute_result"
    }
   ],
   "source": [
    "IFrame(src='https://lmgtfy.com/?q=how+do+I+solve+my+code+problem', width=700, height=400)\n"
   ]
  },
  {
   "cell_type": "markdown",
   "metadata": {
    "slideshow": {
     "slide_type": "subslide"
    }
   },
   "source": [
    "# How to solve problems in coding: 30 min →  Step 2\n",
    "![title](images/coding_problem.png)"
   ]
  },
  {
   "cell_type": "markdown",
   "metadata": {
    "slideshow": {
     "slide_type": "subslide"
    }
   },
   "source": [
    "# If it seems overly complicated to do something simple, it probably is!"
   ]
  },
  {
   "cell_type": "code",
   "execution_count": 18,
   "metadata": {
    "slideshow": {
     "slide_type": "fragment"
    }
   },
   "outputs": [
    {
     "data": {
      "text/html": [
       "\n",
       "        <iframe\n",
       "            width=\"300\"\n",
       "            height=\"200\"\n",
       "            src=\"http://giphygifs.s3.amazonaws.com/media/13hMdAYUj4dJ7y/giphy.gif\"\n",
       "            frameborder=\"0\"\n",
       "            allowfullscreen\n",
       "        ></iframe>\n",
       "        "
      ],
      "text/plain": [
       "<IPython.lib.display.IFrame at 0x7faba030e908>"
      ]
     },
     "execution_count": 18,
     "metadata": {},
     "output_type": "execute_result"
    }
   ],
   "source": [
    "IFrame(src='http://giphygifs.s3.amazonaws.com/media/13hMdAYUj4dJ7y/giphy.gif', width=300, height=200)"
   ]
  },
  {
   "cell_type": "markdown",
   "metadata": {
    "slideshow": {
     "slide_type": "fragment"
    }
   },
   "source": [
    "It is always a good idea to look to see if someone else has solved your problem"
   ]
  },
  {
   "cell_type": "markdown",
   "metadata": {
    "slideshow": {
     "slide_type": "slide"
    }
   },
   "source": [
    "# Grading Philosophy\n",
    "Grade will be based on the following: "
   ]
  },
  {
   "cell_type": "code",
   "execution_count": 15,
   "metadata": {
    "code_folding": [
     0
    ],
    "slideshow": {
     "slide_type": "fragment"
    }
   },
   "outputs": [
    {
     "data": {
      "text/html": [
       "<table>\n",
       "<tbody>\n",
       "<tr><td>Class Participation</td><td style=\"text-align: right;\">25</td></tr>\n",
       "<tr><td>Homework           </td><td style=\"text-align: right;\">30</td></tr>\n",
       "<tr><td>Final Project      </td><td style=\"text-align: right;\">45</td></tr>\n",
       "</tbody>\n",
       "</table>"
      ],
      "text/plain": [
       "<IPython.core.display.HTML object>"
      ]
     },
     "metadata": {},
     "output_type": "display_data"
    }
   ],
   "source": [
    "table = [[\"Class Participation\",25],\n",
    "         [\"Homework\",30],\n",
    "         [\"Final Project\",45]]\n",
    "display(HTML(tabulate.tabulate(table, tablefmt='html')))"
   ]
  },
  {
   "cell_type": "markdown",
   "metadata": {
    "slideshow": {
     "slide_type": "slide"
    }
   },
   "source": [
    "# Final Presentation\n",
    "* Students will be asked to present on a data-driven analysis of data obtained from their research or a public dataset\n",
    "Requirements: \n",
    "* Undergraduate ~1,500 words (<2000) + 2-3 figures manuscript\n",
    "* Graduate: ~3,000 words (<4000) + 4-5 figures manuscript\n",
    "* 15-minute presentation at seminar \\\n",
    "Grades will be based on effort, improvement, and rationale of methodology not the final success or scientific outcome of the project.  \\\n",
    "Draft of all components of the project will be graded to establish expectations\n"
   ]
  },
  {
   "cell_type": "markdown",
   "metadata": {
    "slideshow": {
     "slide_type": "slide"
    }
   },
   "source": [
    "It is expected that students attend and participate actively in lectures. \\\n",
    "If a student has a conflict please email notify Prof. Agar 24-hours prior \\\n",
    "Types of activities: \n",
    "* Lectures\n",
    "* Class Exercises\n",
    "* Class periods for working on final project\n",
    "* One-on-one/Team meetings with Prof. Agar (*n.b.*, these will be used to make up for classes missed when Prof. Agar is on travel.)\n",
    "\n",
    "This course is designed to provide a survey of modern topics in scientific data management and machine learning\n",
    "Many of these topics could have full semester long courses devoted to them. \\\n",
    "**It is the expectation that you conduct independent deep dives on areas of interest** \n"
   ]
  },
  {
   "cell_type": "markdown",
   "metadata": {
    "slideshow": {
     "slide_type": "slide"
    }
   },
   "source": [
    "# Code of Conduct\n",
    "This course is dedicated to providing a welcoming and supportive environment for all people, regardless of background or identity. By participating in this course, participants accept to abide by this Code of Conduct and accept the procedures by which any Code of Conduct incidents are resolved. \\\n",
    "I do not tolerate behavior that is disrespectful or that excludes, intimidates, or causes discomfort to others: \n",
    "* Gender identity and expression, and sexual orientation \n",
    "* Disability, physical appearance and body size\n",
    "* Citizenship, nationality, ethnic or social origin \n",
    "* Pregnancy, familial status, veteran status, genetic information\n",
    "* Religion or belief (or lack thereof), membership of a national minority, \n",
    "* Property, age, education, socio-economic status, technical choices, and experience level.\n"
   ]
  },
  {
   "cell_type": "markdown",
   "metadata": {
    "slideshow": {
     "slide_type": "subslide"
    }
   },
   "source": [
    "# Code of Conduct\n",
    "## Examples of Unacceptable Behavior \n",
    "* Written or verbal comments which have the effect of excluding people on the basis of membership of any specific group\n",
    "* Causing someone to fear for their safety, such as through stalking, following, or intimidation\n",
    "* Violent threats or language directed against another person\n",
    "* The display of sexual or violent images\n",
    "* Unwelcome sexual attention\n",
    "* Nonconsensual or unwelcome physical contact\n",
    "* Sustained disruption of talks, lectures, or communications\n",
    "* Insults or put downs\n",
    "* Sexist, racist, homophobic, transphobic, ableist, or exclusionary jokes\n",
    "* Excessive swearing\n",
    "* Continuing to initiate interaction (including photography or recording) with someone after being asked to stop\n",
    "* Publication of private communication without consent"
   ]
  },
  {
   "cell_type": "markdown",
   "metadata": {
    "slideshow": {
     "slide_type": "subslide"
    }
   },
   "source": [
    "# Code of Conduct\n",
    "## Consequences of Unacceptable Behavior\n",
    "If you believe someone is violating the Code of Conduct, I ask that you report it to me. I am committed to creating a friendly and respectful place for learning, teaching and contributing. All participants are expected to show respect and courtesy to others. \\\n",
    "To make clear what is expected, everyone participating in this class and its activities is required to conform to the Code of Conduct. This Code of Conduct applies to all spaces affiliated with the class, but not limited to, lectures, email lists, and online forums such as GitHub, Slack and Twitter. \\\n",
    "Participants who are asked to stop any inappropriate behavior are expected to comply immediately. This applies to any event and platforms, either online or in-person. If a participant engages in behavior that violates this code of conduct, the Professor may warn the offender, investigate the Code of Conduct violation, ask them to leave the course, or report the offense to the College.\n"
   ]
  },
  {
   "cell_type": "markdown",
   "metadata": {
    "slideshow": {
     "slide_type": "slide"
    }
   },
   "source": [
    "# Learning Objectives\n",
    "* Understand how to find, read, and write scientific data analysis tools in open source software.\n",
    "* Understand the importance and how to apply tools for scientific data management.\n",
    "* Ability to apply machine and deep learning tools to diverse scientific problems.\n",
    "* Create a scientific discovery based on data-driven approaches\n",
    "* Formulate ideas into figures, a presentation, and manuscript to communicate scientific concepts"
   ]
  },
  {
   "cell_type": "code",
   "execution_count": 16,
   "metadata": {},
   "outputs": [
    {
     "data": {
      "text/html": [
       "\n",
       "        <iframe\n",
       "            width=\"700\"\n",
       "            height=\"600\"\n",
       "            src=\"https://calendar.google.com/calendar/embed?height=600&amp;wkst=2&amp;bgcolor=%23ffffff&amp;ctz=America%2FNew_York&amp;src=bGVoaWdoLmVkdV9jbGFzc3Jvb204NDMyNTQ4MEBncm91cC5jYWxlbmRhci5nb29nbGUuY29t&amp;color=%23137333&amp;mode=WEEK&amp;showPrint=0&amp;showTitle=0&amp;showTabs=1&amp;showCalendars=0&amp;showTz=0\"\n",
       "            frameborder=\"0\"\n",
       "            allowfullscreen\n",
       "        ></iframe>\n",
       "        "
      ],
      "text/plain": [
       "<IPython.lib.display.IFrame at 0x7faba030ecf8>"
      ]
     },
     "execution_count": 16,
     "metadata": {},
     "output_type": "execute_result"
    }
   ],
   "source": [
    "IFrame(src='https://calendar.google.com/calendar/embed?height=600&amp;wkst=2&amp;bgcolor=%23ffffff&amp;ctz=America%2FNew_York&amp;src=bGVoaWdoLmVkdV9jbGFzc3Jvb204NDMyNTQ4MEBncm91cC5jYWxlbmRhci5nb29nbGUuY29t&amp;color=%23137333&amp;mode=WEEK&amp;showPrint=0&amp;showTitle=0&amp;showTabs=1&amp;showCalendars=0&amp;showTz=0', width=700, height=600)"
   ]
  },
  {
   "cell_type": "code",
   "execution_count": null,
   "metadata": {},
   "outputs": [],
   "source": []
  },
  {
   "cell_type": "code",
   "execution_count": null,
   "metadata": {},
   "outputs": [],
   "source": []
  }
 ],
 "metadata": {
  "celltoolbar": "Slideshow",
  "kernelspec": {
   "display_name": "Python 3",
   "language": "python",
   "name": "python3"
  },
  "language_info": {
   "codemirror_mode": {
    "name": "ipython",
    "version": 3
   },
   "file_extension": ".py",
   "mimetype": "text/x-python",
   "name": "python",
   "nbconvert_exporter": "python",
   "pygments_lexer": "ipython3",
   "version": "3.7.3"
  }
 },
 "nbformat": 4,
 "nbformat_minor": 2
}
